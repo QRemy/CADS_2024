{
 "cells": [
  {
   "cell_type": "markdown",
   "id": "32d6c0a2-dde9-46b7-88a8-071a4b96a738",
   "metadata": {},
   "source": [
    "# Spectral simulation for a blazar"
   ]
  },
  {
   "cell_type": "code",
   "execution_count": 22,
   "id": "676789bd-fec5-472b-993f-eaba1689872e",
   "metadata": {},
   "outputs": [],
   "source": [
    "import numpy as np\n",
    "import astropy.units as u\n",
    "from astropy.coordinates import SkyCoord\n",
    "from gammapy.irf import load_irf_dict_from_file\n",
    "from gammapy.maps import WcsGeom, MapAxis\n",
    "from gammapy.modeling.models import (\n",
    "    PowerLawSpectralModel,\n",
    "    PointSpatialModel,\n",
    "    SkyModel,\n",
    "    Models,\n",
    "    FoVBackgroundModel,\n",
    "    EBLAbsorptionNormSpectralModel\n",
    ")\n",
    "from gammapy.makers import MapDatasetMaker, SafeMaskMaker\n",
    "from gammapy.modeling import Fit\n",
    "from gammapy.data import Observation\n",
    "from gammapy.datasets import MapDataset\n",
    "\n",
    "from gammapy.catalog import SourceCatalog4FGL\n",
    "\n"
   ]
  },
  {
   "cell_type": "code",
   "execution_count": 23,
   "id": "3ac2409e-08ad-4495-a25c-4b1701e3bb8b",
   "metadata": {},
   "outputs": [
    {
     "data": {
      "text/plain": [
       "'LAT 14-year point source catalog'"
      ]
     },
     "execution_count": 23,
     "metadata": {},
     "output_type": "execute_result"
    }
   ],
   "source": [
    "catalog = SourceCatalog4FGL()\n",
    "catalog.description"
   ]
  },
  {
   "cell_type": "code",
   "execution_count": 24,
   "id": "64d5bf57-59b7-473d-b5fe-ec21bfff51c1",
   "metadata": {},
   "outputs": [],
   "source": [
    "source = catalog[\"PKS 2155-304\"]"
   ]
  },
  {
   "cell_type": "code",
   "execution_count": 25,
   "id": "c1911773-f622-445d-baa1-975205e7978c",
   "metadata": {},
   "outputs": [
    {
     "name": "stderr",
     "output_type": "stream",
     "text": [
      "WARNING: UnitsWarning: '1/s/MeV/sr' did not parse as fits unit: Numeric factor not supported by FITS If this is meant to be a custom unit, define it with 'u.def_unit'. To have it recognized inside a file reader or other code, enable it with 'u.add_enabled_units'. For details, see https://docs.astropy.org/en/latest/units/combining_and_defining.html [astropy.units.core]\n",
      "Invalid unit found in background table! Assuming (s-1 MeV-1 sr-1)\n"
     ]
    }
   ],
   "source": [
    "irfs = load_irf_dict_from_file(\"$GAMMAPY_DATA/cta-1dc/caldb/data/cta/1dc/bcf/South_z20_50h/irf_file.fits\")"
   ]
  },
  {
   "cell_type": "code",
   "execution_count": 70,
   "id": "4e63f83e-a2aa-4cee-b6ed-0e0b04526b64",
   "metadata": {},
   "outputs": [],
   "source": [
    "# Define the observation parameters (typically the observation duration and the pointing position):\n",
    "livetime = 2.0 * u.h\n",
    "pointing = source.position"
   ]
  },
  {
   "cell_type": "code",
   "execution_count": 71,
   "id": "75a49714-b46a-4c3f-9e57-b08e771dfb5f",
   "metadata": {},
   "outputs": [],
   "source": [
    "energy_reco = MapAxis.from_energy_edges(\n",
    "    np.logspace(-1.0, 2.0, 20), unit=\"TeV\", name=\"energy\", interp=\"log\"\n",
    ")\n",
    "geom = WcsGeom.create(\n",
    "    skydir=source.position,\n",
    "    binsz=0.02,\n",
    "    width=(3, 3),\n",
    "    frame=\"icrs\",\n",
    "    axes=[energy_reco],\n",
    ")\n",
    "# It is usually useful to have a separate binning for the true energy axis\n",
    "energy_true = MapAxis.from_energy_edges(\n",
    "    np.logspace(-1.5, 1.5, 50), unit=\"TeV\", name=\"energy_true\", interp=\"log\"\n",
    ")\n",
    "\n",
    "empty = MapDataset.create(\n",
    "    geom, name=\"dataset-simu\", energy_axis_true=energy_true\n",
    ")"
   ]
  },
  {
   "cell_type": "code",
   "execution_count": 72,
   "id": "bb3bb413-700b-4044-9b3f-97cd11065aca",
   "metadata": {},
   "outputs": [
    {
     "name": "stdout",
     "output_type": "stream",
     "text": [
      "LogParabolaSpectralModel\n",
      "\n",
      "type    name     value         unit        error   min max frozen is_norm link prior\n",
      "---- --------- ---------- -------------- --------- --- --- ------ ------- ---- -----\n",
      "     amplitude 1.2591e-11 MeV-1 s-1 cm-2 1.317e-13 nan nan  False    True           \n",
      "     reference 1.1610e+03            MeV 0.000e+00 nan nan   True   False           \n",
      "         alpha 1.7733e+00                1.029e-02 nan nan  False   False           \n",
      "          beta 4.1893e-02                3.743e-03 nan nan  False   False           \n"
     ]
    }
   ],
   "source": [
    "sky_model = source.sky_model()\n",
    "int_model = sky_model.spectral_model\n",
    "print(int_model)"
   ]
  },
  {
   "cell_type": "code",
   "execution_count": 73,
   "id": "4c592a8c-e725-4781-a959-0449034df1b8",
   "metadata": {},
   "outputs": [],
   "source": [
    "redshift = 0.116\n",
    "ebl = EBLAbsorptionNormSpectralModel.read_builtin(\"dominguez\", redshift=redshift)\n",
    "\n"
   ]
  },
  {
   "cell_type": "code",
   "execution_count": 74,
   "id": "6a7e7c7d-1bee-429b-b111-944a2fcbbacd",
   "metadata": {},
   "outputs": [],
   "source": [
    "spectral_model = ebl * int_model\n",
    "spatial_model = sky_model.spatial_model\n",
    "model_simu = SkyModel(spectral_model=spectral_model, \n",
    "                      spatial_model=spatial_model,\n",
    "                      name=\"model-simu\")\n"
   ]
  },
  {
   "cell_type": "code",
   "execution_count": 75,
   "id": "afa4ebb4-5f43-45b4-985c-7cd7905a0bef",
   "metadata": {},
   "outputs": [],
   "source": [
    "bkg_model = FoVBackgroundModel(dataset_name=\"dataset-simu\")"
   ]
  },
  {
   "cell_type": "code",
   "execution_count": 76,
   "id": "6f4c51de-c847-4455-b9f0-8adf9bdafb21",
   "metadata": {},
   "outputs": [
    {
     "name": "stdout",
     "output_type": "stream",
     "text": [
      "Observation\n",
      "\n",
      "\tobs id            : 0 \n",
      " \ttstart            : 51544.00\n",
      "\ttstop             : 51544.08\n",
      "\tduration          : 7200.00 s\n",
      "\tpointing (icrs)   : 329.7 deg, -30.2 deg\n",
      "\n",
      "\tdeadtime fraction : 0.0%\n",
      "\n"
     ]
    },
    {
     "name": "stderr",
     "output_type": "stream",
     "text": [
      "/home/atreyeesinha/anaconda3/envs/gammapy-1.2/lib/python3.10/site-packages/gammapy/data/observations.py:281: GammapyDeprecationWarning: Pointing will be required to be provided as FixedPointingInfo\n",
      "  warnings.warn(\n"
     ]
    }
   ],
   "source": [
    "# Create an in-memory observation\n",
    "obs = Observation.create(pointing=pointing, livetime=livetime, irfs=irfs)\n",
    "print(obs)\n"
   ]
  },
  {
   "cell_type": "code",
   "execution_count": 77,
   "id": "29ef710e-3c8c-4359-933b-95a762ef4a55",
   "metadata": {},
   "outputs": [],
   "source": [
    "maker = MapDatasetMaker(selection=[\"exposure\", \"background\", \"psf\", \"edisp\"])\n",
    "\n",
    "maker_safe_mask = SafeMaskMaker(methods=[\"offset-max\"], offset_max=4.0 * u.deg)\n",
    "\n",
    "dataset = maker.run(empty, obs)\n",
    "dataset = maker_safe_mask.run(dataset, obs)\n",
    "\n"
   ]
  },
  {
   "cell_type": "code",
   "execution_count": 78,
   "id": "b7166dd8-eb05-4917-be5f-1375f43120c5",
   "metadata": {},
   "outputs": [
    {
     "name": "stdout",
     "output_type": "stream",
     "text": [
      "MapDataset\n",
      "----------\n",
      "\n",
      "  Name                            : dataset-simu \n",
      "\n",
      "  Total counts                    : 57135 \n",
      "  Total background counts         : 53048.26\n",
      "  Total excess counts             : 4086.74\n",
      "\n",
      "  Predicted counts                : 57227.72\n",
      "  Predicted background counts     : 53048.26\n",
      "  Predicted excess counts         : 4179.46\n",
      "\n",
      "  Exposure min                    : 4.25e+07 m2 s\n",
      "  Exposure max                    : 3.60e+10 m2 s\n",
      "\n",
      "  Number of total bins            : 427500 \n",
      "  Number of fit bins              : 427500 \n",
      "\n",
      "  Fit statistic type              : cash\n",
      "  Fit statistic value (-2 log(L)) : 189312.56\n",
      "\n",
      "  Number of models                : 2 \n",
      "  Number of parameters            : 9\n",
      "  Number of free parameters       : 6\n",
      "\n",
      "  Component 0: SkyModel\n",
      "  \n",
      "    Name                      : 4FGL J2158.8-3013\n",
      "    Datasets names            : None\n",
      "    Spectral model type       : LogParabolaSpectralModel\n",
      "    Spatial  model type       : PointSpatialModel\n",
      "    Temporal model type       : \n",
      "    Parameters:\n",
      "      amplitude                     :   1.26e-11   +/- 1.3e-13 1 / (MeV s cm2)\n",
      "      reference             (frozen):   1160.973       MeV         \n",
      "      alpha                         :      1.773   +/-    0.01             \n",
      "      beta                          :      0.042   +/-    0.00             \n",
      "      lon_0                         :    329.714   +/-    0.00 deg         \n",
      "      lat_0                         :    -30.225   +/-    0.00 deg         \n",
      "  \n",
      "  Component 1: FoVBackgroundModel\n",
      "  \n",
      "    Name                      : dataset-simu-bkg\n",
      "    Datasets names            : ['dataset-simu']\n",
      "    Spectral model type       : PowerLawNormSpectralModel\n",
      "    Parameters:\n",
      "      norm                          :      1.000   +/-    0.00             \n",
      "      tilt                  (frozen):      0.000                   \n",
      "      reference             (frozen):      1.000       TeV         \n",
      "  \n",
      "  \n"
     ]
    }
   ],
   "source": [
    "models = Models([sky_model, bkg_model])\n",
    "\n",
    "dataset.models = models\n",
    "dataset.fake(42)\n",
    "# Do a print on the dataset - there is now a counts maps\n",
    "print(dataset)\n"
   ]
  },
  {
   "cell_type": "code",
   "execution_count": 79,
   "id": "c2ca336a-5cd1-4d52-a75d-8d76b220318e",
   "metadata": {},
   "outputs": [],
   "source": [
    "dataset.write(\"pks2155.fits.gz\", overwrite=True)"
   ]
  },
  {
   "cell_type": "code",
   "execution_count": null,
   "id": "5ba68e23-6c25-4409-8ece-a12f40e47e3a",
   "metadata": {},
   "outputs": [],
   "source": []
  },
  {
   "cell_type": "code",
   "execution_count": null,
   "id": "2d0661c6-edd5-45d4-8e4c-d7e690c73771",
   "metadata": {},
   "outputs": [],
   "source": []
  }
 ],
 "metadata": {
  "kernelspec": {
   "display_name": "Python 3 (ipykernel)",
   "language": "python",
   "name": "python3"
  },
  "language_info": {
   "codemirror_mode": {
    "name": "ipython",
    "version": 3
   },
   "file_extension": ".py",
   "mimetype": "text/x-python",
   "name": "python",
   "nbconvert_exporter": "python",
   "pygments_lexer": "ipython3",
   "version": "3.10.15"
  }
 },
 "nbformat": 4,
 "nbformat_minor": 5
}
