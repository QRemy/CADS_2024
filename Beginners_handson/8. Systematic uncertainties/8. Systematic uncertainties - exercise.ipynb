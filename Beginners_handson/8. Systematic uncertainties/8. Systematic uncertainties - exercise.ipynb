{
 "cells": [
  {
   "cell_type": "markdown",
   "id": "3dce8fcf-fd8f-48dd-a084-9f1234099239",
   "metadata": {
    "tags": []
   },
   "source": [
    "# 8. Systematic uncertainties\n",
    "\n",
    "In this exercise, we will analyse the data of PKS 2155-304 from the H.E.S.S. DL3-DR1, compute its average spectrum and compare two spectral hypotheses. Then, we will assess the systematic uncertainties on the spectrum by studying the effect of a bias on the energy scale.\n",
    "\n",
    "For this tutorial, we will need a few extra python packages (such as `astroquery` to query Virtual Observatory services)."
   ]
  },
  {
   "cell_type": "code",
   "execution_count": null,
   "id": "5e35b02ac6a4c3a6",
   "metadata": {
    "ExecuteTime": {
     "end_time": "2024-10-08T11:54:10.091568Z",
     "start_time": "2024-10-08T11:54:10.087802Z"
    }
   },
   "outputs": [],
   "source": [
    "# !mamba install -c conda-forge astroquery corner tqdm\n",
    "#\n",
    "# or:\n",
    "#\n",
    "# !mamba create -n cads-2024 -c conda-forge gammapy=1.2 ipykernel astroquery corner tqdm"
   ]
  },
  {
   "cell_type": "code",
   "execution_count": null,
   "id": "e084dc20-23e5-40b5-8751-5ac51faa5de5",
   "metadata": {
    "ExecuteTime": {
     "end_time": "2024-10-08T11:54:56.559878Z",
     "start_time": "2024-10-08T11:54:10.143404Z"
    },
    "tags": []
   },
   "outputs": [],
   "source": [
    "import matplotlib.pyplot as plt\n",
    "import matplotlib.style as style\n",
    "style.use('tableau-colorblind10')\n",
    "\n",
    "import corner\n",
    "import numpy as np\n",
    "import os\n",
    "\n",
    "from IPython.display import display\n",
    "from scipy.stats import chi2, norm\n",
    "from tqdm import tqdm\n",
    "\n",
    "from astropy import units as u\n",
    "from astropy.coordinates import SkyCoord, Angle\n",
    "from astropy.table import Table\n",
    "from astroquery.simbad import Simbad\n",
    "\n",
    "from gammapy.data import DataStore\n",
    "from gammapy.datasets import Datasets, SpectrumDataset, SpectrumDatasetOnOff\n",
    "from gammapy.estimators import FluxPointsEstimator\n",
    "from gammapy.estimators.utils import resample_energy_edges\n",
    "from gammapy.makers.utils import make_theta_squared_table\n",
    "from gammapy.makers import (\n",
    "    DatasetsMaker,\n",
    "    SafeMaskMaker,\n",
    "    SpectrumDatasetMaker,\n",
    "    ReflectedRegionsBackgroundMaker,\n",
    ")\n",
    "from gammapy.maps import MapAxis, RegionGeom, WcsGeom\n",
    "from gammapy.modeling import Fit, Parameter\n",
    "from gammapy.modeling.models import (\n",
    "    LogParabolaSpectralModel,\n",
    "    PowerLawSpectralModel,\n",
    "    SpectralModel,\n",
    "    SkyModel,\n",
    ")\n",
    "from gammapy.utils import pbar\n",
    "pbar.SHOW_PROGRESS_BAR = True\n",
    "from gammapy.visualization import plot_spectrum_datasets_off_regions, plot_theta_squared_table\n",
    "\n",
    "from regions import CircleSkyRegion"
   ]
  },
  {
   "cell_type": "markdown",
   "id": "f4e8f250-1f50-4bc8-9a63-da952804b4a6",
   "metadata": {},
   "source": [
    "We first load the data for the H.E.S.S. DL3-DR1:"
   ]
  },
  {
   "cell_type": "code",
   "execution_count": null,
   "id": "db7891ee-14ec-415c-bb82-3958cc91f94a",
   "metadata": {
    "ExecuteTime": {
     "end_time": "2024-10-08T11:54:57.807229Z",
     "start_time": "2024-10-08T11:54:57.485725Z"
    },
    "tags": []
   },
   "outputs": [],
   "source": [
    "data_store = DataStore.from_dir(XXX)"
   ]
  },
  {
   "cell_type": "markdown",
   "id": "a41ecfd8-6a22-45b7-be94-bb4be1358f1e",
   "metadata": {},
   "source": [
    "We set the properties of the source of interest. Bonus: we use Virtual Observatory services to query the source parameters."
   ]
  },
  {
   "cell_type": "code",
   "execution_count": null,
   "id": "5645e6f4-aceb-4d3f-b8dd-1440e3d69749",
   "metadata": {
    "tags": []
   },
   "outputs": [],
   "source": [
    "src = dict()\n",
    "src['Name'] = 'PKS 2155-304'\n",
    "src['Position'] = SkyCoord.from_name(src['Name'])\n",
    "\n",
    "try:\n",
    "    simbad = Simbad()\n",
    "    simbad.add_votable_fields(\"z_value\")\n",
    "    query = simbad.query_object(src['Name'])\n",
    "    src['Redshift'] = query[\"Z_VALUE\"].data[0]\n",
    "except NameError:\n",
    "    src['Redshift'] = 0.116"
   ]
  },
  {
   "cell_type": "markdown",
   "id": "8c53b33d-aaa1-4833-8770-41f8739f2fac",
   "metadata": {},
   "source": [
    "We select a sub-sample of H.E.S.S. data acquired on our source:"
   ]
  },
  {
   "cell_type": "code",
   "execution_count": null,
   "id": "fef1aaf1-0c78-4d02-b9f1-c11365455620",
   "metadata": {
    "tags": []
   },
   "outputs": [],
   "source": [
    "selection = dict(XXX)\n",
    "selected_obs_table = data_store.obs_table.select_observations(selection)\n",
    "\n",
    "observations = XXX"
   ]
  },
  {
   "cell_type": "code",
   "execution_count": null,
   "id": "664efb6d-b8ad-4fe1-bf3d-19e0ef18d13b",
   "metadata": {
    "tags": []
   },
   "outputs": [],
   "source": [
    "exclusion_mask = XXX"
   ]
  },
  {
   "cell_type": "markdown",
   "id": "6d56c103-4230-4e62-9ae6-9e89d672a803",
   "metadata": {},
   "source": [
    "# Data reduction\n",
    "\n",
    "Let's perform a 1D analysis of the data."
   ]
  },
  {
   "cell_type": "code",
   "execution_count": null,
   "id": "af46c354-9be7-4ee3-adb8-9a7f48e2353b",
   "metadata": {
    "tags": []
   },
   "outputs": [],
   "source": [
    "energy_axis = XXX\n",
    "energy_axis_true = XXX\n",
    "\n",
    "geom = XXX\n",
    "\n",
    "dataset_empty = XXX\n",
    "dataset_maker = XXX\n",
    "\n",
    "bkg_maker = XXX\n",
    "safe_mask_maker = XXX"
   ]
  },
  {
   "cell_type": "code",
   "execution_count": null,
   "id": "d0d2e928-ccec-4406-b23b-63483abe9d7c",
   "metadata": {
    "tags": []
   },
   "outputs": [],
   "source": [
    "%%time\n",
    "\n",
    "# Parallel version\n",
    "makers = [dataset_maker, bkg_maker, safe_mask_maker]  # the order matters\n",
    "datasets_maker = DatasetsMaker(makers, stack_datasets=False, n_jobs=6)\n",
    "datasets = datasets_maker.run(dataset_empty, observations)"
   ]
  },
  {
   "cell_type": "code",
   "execution_count": null,
   "id": "1ce90cf4-e694-44a4-ab59-fdf257b26255",
   "metadata": {
    "tags": []
   },
   "outputs": [],
   "source": [
    "fig, (ax_excess, ax_sqrt_ts) = plt.subplots(figsize=(10, 4), ncols=2, nrows=1)\n",
    "ax_excess.plot(\n",
    "    info_table[\"livetime\"].to(\"h\"),\n",
    "    info_table[\"excess\"],\n",
    "    marker=\"o\",\n",
    "    ls=\"none\",\n",
    ")\n",
    "\n",
    "ax_excess.set_title(\"Excess\")\n",
    "ax_excess.set_xlabel(\"Livetime [h]\")\n",
    "ax_excess.set_ylabel(\"Excess events\")\n",
    "\n",
    "ax_sqrt_ts.plot(\n",
    "    info_table[\"livetime\"].to(\"h\"),\n",
    "    info_table[\"sqrt_ts\"],\n",
    "    marker=\"o\",\n",
    "    ls=\"none\",\n",
    ")\n",
    "\n",
    "ax_sqrt_ts.set_title(\"Sqrt(TS)\")\n",
    "ax_sqrt_ts.set_xlabel(\"Livetime [h]\")\n",
    "ax_sqrt_ts.set_ylabel(\"Sqrt(TS)\")\n",
    "\n",
    "plt.show()"
   ]
  },
  {
   "cell_type": "code",
   "execution_count": null,
   "id": "62c86f38-96d1-4af6-b8e1-4b648b94f38d",
   "metadata": {},
   "outputs": [],
   "source": [
    "theta2_axis = MapAxis.from_bounds(0, 0.1, nbin=50, interp=\"lin\", unit=\"deg2\")\n",
    "\n",
    "theta2_table = make_theta_squared_table(\n",
    "    observations=observations,\n",
    "    position=src['Position'],\n",
    "    theta_squared_axis=theta2_axis,\n",
    ")\n",
    "\n",
    "on_region_radius = Angle(\"0.1 deg\")\n",
    "\n",
    "fig = plt.figure(figsize=(8, 5))\n",
    "plot_theta_squared_table(theta2_table)\n",
    "for ax in fig.get_axes():\n",
    "    ax.axvline(on_region_radius.value**2, color=\"red\", linestyle=\"--\", label=\"ON region\")\n",
    "    ax.legend()\n",
    "plt.show()"
   ]
  },
  {
   "cell_type": "code",
   "execution_count": null,
   "id": "876876e5-f51f-4a42-8e61-a6ee72b8755e",
   "metadata": {
    "tags": []
   },
   "outputs": [],
   "source": [
    "dataset_stack = datasets.stack_reduce(name=\"hess\")"
   ]
  },
  {
   "cell_type": "markdown",
   "id": "6a1df2c6-676e-4930-9375-951de960a2a6",
   "metadata": {},
   "source": [
    "# Fit stacked spectrum\n",
    "\n",
    "We will fit the overall spectrum of PKS 2155-304, under two hypotheses:\n",
    "* a simple power-law\n",
    "* a log-parabola\n",
    "\n",
    "We will judge which hypotheses reperesent best the data by comparing the fit statistics."
   ]
  },
  {
   "cell_type": "code",
   "execution_count": null,
   "id": "4eae8d91-ed66-4a69-b2ba-c7124b244b70",
   "metadata": {
    "tags": []
   },
   "outputs": [],
   "source": [
    "reference_energy = 300. * u.Unit(\"GeV\")"
   ]
  },
  {
   "cell_type": "code",
   "execution_count": null,
   "id": "f70d19f9-88eb-429f-a257-9387c75986d6",
   "metadata": {
    "tags": []
   },
   "outputs": [],
   "source": [
    "dataset_stack_pl = dataset_stack.copy(name=\"hess\")\n",
    "\n",
    "spectral_model_pl = PowerLawSpectralModel(XXX)\n",
    "\n",
    "source_pl = SkyModel(XXX)\n",
    "\n",
    "dataset_stack_pl.models = source_pl\n",
    "print(dataset_stack_pl)"
   ]
  },
  {
   "cell_type": "code",
   "execution_count": null,
   "id": "01475040-410c-4b2a-bdfe-1de82d2aa99c",
   "metadata": {
    "tags": []
   },
   "outputs": [],
   "source": [
    "%%time\n",
    "\n",
    "fit_pl = Fit()\n",
    "result_pl = fit_pl.run(datasets=dataset_stack_pl)\n",
    "\n",
    "# we make a copy here to compare it later\n",
    "model_best_pl = source_pl.copy(name=src['Name'])"
   ]
  },
  {
   "cell_type": "code",
   "execution_count": null,
   "id": "729806cf-2ca1-45ad-8532-60506d0eb4f6",
   "metadata": {
    "tags": []
   },
   "outputs": [],
   "source": [
    "model_best_pl"
   ]
  },
  {
   "cell_type": "code",
   "execution_count": null,
   "id": "48cb3fd3-4d8a-4e18-876b-b45545027648",
   "metadata": {
    "tags": []
   },
   "outputs": [],
   "source": [
    "dataset_stack_lp = dataset_stack.copy(name=\"hess\")\n",
    "\n",
    "spectral_model_lp = LogParabolaSpectralModel(XXX)\n",
    "\n",
    "source_lp = SkyModel(XXX)\n",
    "\n",
    "dataset_stack_lp.models = source_lp\n",
    "print(dataset_stack_lp)"
   ]
  },
  {
   "cell_type": "code",
   "execution_count": null,
   "id": "c32c320b-be6e-485c-8a1d-bce8647e0421",
   "metadata": {
    "tags": []
   },
   "outputs": [],
   "source": [
    "%%time\n",
    "\n",
    "fit_lp = Fit()\n",
    "result_lp = fit_lp.run(datasets=dataset_stack_lp)\n",
    "\n",
    "# we make a copy here to compare it later\n",
    "model_best_lp = source_lp.copy(name=src['Name'])"
   ]
  },
  {
   "cell_type": "code",
   "execution_count": null,
   "id": "bf30e504-3087-4c18-a629-65cec435bb22",
   "metadata": {
    "tags": []
   },
   "outputs": [],
   "source": [
    "model_best_lp"
   ]
  },
  {
   "cell_type": "code",
   "execution_count": null,
   "id": "503e590f-573d-4896-a834-45410262c896",
   "metadata": {
    "tags": []
   },
   "outputs": [],
   "source": [
    "def sigma_lp_vs_pl(df=1):\n",
    "    ts_pl = result_pl.total_stat\n",
    "    ts_lp = result_lp.total_stat\n",
    "    Delta_TS = ts_pl-ts_lp\n",
    "    p_value = chi2.sf(Delta_TS, df=df)\n",
    "    sigma = norm.isf(0.5*p_value)  # 0.5 only for 1-sided hypothesis on curvature parameter (which is constrained positive)\n",
    "    return sigma"
   ]
  },
  {
   "cell_type": "markdown",
   "id": "4994b16f-17ba-4ad7-9b7b-1b6283e604d1",
   "metadata": {
    "tags": []
   },
   "source": [
    "Assess which spectral model is to be preferred."
   ]
  },
  {
   "cell_type": "code",
   "execution_count": null,
   "id": "8263eb4d-5073-4f00-b77d-4e69f365fc76",
   "metadata": {},
   "outputs": [],
   "source": [
    "XXX"
   ]
  },
  {
   "cell_type": "markdown",
   "id": "b8fc5be2-183e-4466-94e7-0d3549e4217a",
   "metadata": {},
   "source": [
    "# Compute flux points"
   ]
  },
  {
   "cell_type": "code",
   "execution_count": null,
   "id": "7edc3470-ad03-4419-b043-aa329b2af0a2",
   "metadata": {
    "tags": []
   },
   "outputs": [],
   "source": [
    "energy_edges = resample_energy_edges(dataset_stack, conditions={'sqrt_ts_min': 2.})\n",
    "\n",
    "fpe = FluxPointsEstimator(XXX)\n",
    "flux_points = fpe.run([dataset_stack])"
   ]
  },
  {
   "cell_type": "markdown",
   "id": "9a952492-a315-40b0-8a9f-c510eef2dfa7",
   "metadata": {},
   "source": [
    "# Spectral energy distribution\n",
    "\n",
    "We will produce an SED with the best-fit model and results."
   ]
  },
  {
   "cell_type": "code",
   "execution_count": null,
   "id": "3676aac6-c545-4a83-8aa5-87bcbff95906",
   "metadata": {
    "tags": []
   },
   "outputs": [],
   "source": [
    "fig, ax = plt.subplots(figsize=(8, 6))\n",
    "\n",
    "XXX"
   ]
  },
  {
   "cell_type": "markdown",
   "id": "7dbd8663-9c9b-4b40-8f91-09a1cf1eb6f5",
   "metadata": {},
   "source": [
    "# Systematics study\n",
    "\n",
    "Now, we will define a custom spectral model by introducing a nuisance parameter on the energy scale, and study the systematic effet of a bias on this parameter."
   ]
  },
  {
   "cell_type": "code",
   "execution_count": null,
   "id": "659b127e-515e-4d26-8d8c-2cc8622f9ff8",
   "metadata": {},
   "outputs": [],
   "source": [
    "# Define some custom biased spectral models\n",
    "\n",
    "class BiasedPowerLawSpectralModel(SpectralModel):\n",
    "    tag = \"BiasedPowerLawSpectralModel\"\n",
    "    amplitude = Parameter(\"amplitude\", \"1e-12 cm-2 s-1 TeV-1\", min=0, is_norm=True)\n",
    "    index = Parameter(\"index\", 2.5, min=0)\n",
    "    reference = Parameter(\"reference\", \"1 TeV\", frozen=True)\n",
    "    bias = Parameter(\"bias\", 1., min=0.)\n",
    "        \n",
    "    @staticmethod\n",
    "    def evaluate(energy, amplitude, index, reference, bias):\n",
    "        energy = bias.value * energy\n",
    "        pwl = PowerLawSpectralModel.evaluate(\n",
    "            energy=energy,\n",
    "            index=index,\n",
    "            amplitude=amplitude,\n",
    "            reference=reference,\n",
    "        )\n",
    "        return pwl\n",
    "\n",
    "class BiasedLogParabolaSpectralModel(SpectralModel):\n",
    "    tag = \"BiasedLogParabolaSpectralModel\"\n",
    "    amplitude = Parameter(\"amplitude\", \"1e-12 cm-2 s-1 TeV-1\", min=0, is_norm=True)\n",
    "    alpha = Parameter(\"alpha\", 2.5, min=0)\n",
    "    beta = Parameter(\"beta\", 0.5)\n",
    "    reference = Parameter(\"reference\", \"1 TeV\", frozen=True)\n",
    "    bias = Parameter(\"bias\", 1., min=0.)\n",
    "        \n",
    "    @staticmethod\n",
    "    def evaluate(energy, amplitude, alpha, beta, reference, bias):\n",
    "        energy = bias.value * energy\n",
    "        logpwl = LogParabolaSpectralModel.evaluate(\n",
    "            energy=energy,\n",
    "            alpha=alpha,\n",
    "            beta=beta,\n",
    "            amplitude=amplitude,\n",
    "            reference=reference,\n",
    "        )\n",
    "        return logpwl"
   ]
  },
  {
   "cell_type": "code",
   "execution_count": null,
   "id": "310d4c7a-37bd-4505-b199-a942aa2b5b10",
   "metadata": {
    "tags": []
   },
   "outputs": [],
   "source": [
    "# Define the biased model, based on the best model shape obtained above (PL or LP)\n",
    "\n",
    "spectral_model_biased = XXX\n",
    "\n",
    "biased_model = SkyModel(XXX)\n",
    "print(biased_model)"
   ]
  },
  {
   "cell_type": "markdown",
   "id": "657e85ae-63a1-47a7-ae29-5d0b2db848b6",
   "metadata": {},
   "source": [
    "Now, we will simulate datasets injecting the biased model, assuming 10% of uncertainty on the energy scale."
   ]
  },
  {
   "cell_type": "code",
   "execution_count": null,
   "id": "64bff382-fadb-4350-af47-69e85dd28d0e",
   "metadata": {},
   "outputs": [],
   "source": [
    "%%time\n",
    "\n",
    "# Definition of reference dataset\n",
    "reference_dataset = dataset_stack.copy(name=\"hess\")\n",
    "\n",
    "# Fake counts taking bias into account\n",
    "simulated_biased_datasets = []\n",
    "n_sim = 1000\n",
    "energy_bias = 10./100.\n",
    "\n",
    "results_biased = []\n",
    "\n",
    "for i in tqdm(range(n_sim)):\n",
    "    ds = reference_dataset\n",
    "    # Random bias\n",
    "    biased_model.spectral_model.bias.value = np.random.normal(XXX)\n",
    "    \n",
    "    # Set the model on the ON-OFF dataset using the *biased* model\n",
    "    ds.XXX\n",
    "    \n",
    "    # Fake the dataset\n",
    "    ds.XXX\n",
    "    \n",
    "\n",
    "    # Fit the simulated dataset\n",
    "    fit_result = XXX\n",
    "\n",
    "    if fit_result.success:\n",
    "        par_dict = {}\n",
    "        for par in fit_result.parameters.free_parameters:\n",
    "            par_dict[par.name] = par.quantity\n",
    "        results_biased.append(par_dict)\n",
    "        \n",
    "    simulated_biased_datasets.append(ds)"
   ]
  },
  {
   "cell_type": "code",
   "execution_count": null,
   "id": "2b66cc6d-ac26-4c05-aac7-7d915a976837",
   "metadata": {
    "tags": []
   },
   "outputs": [],
   "source": [
    "fitted_params_with_energy_bias = Table(results_biased).to_pandas()\n",
    "biased_mean = fitted_params_with_energy_bias.mean()\n",
    "biased_uncertainty = fitted_params_with_energy_bias.std()"
   ]
  },
  {
   "cell_type": "code",
   "execution_count": null,
   "id": "fe3995d5-5d36-478f-bc73-101a936222ad",
   "metadata": {},
   "outputs": [],
   "source": [
    "for par in result.models[src['Name']].spectral_model.parameters.free_parameters:\n",
    "    statistic_uncertainty = par.error * par.unit\n",
    "    total_uncertainty = biased_uncertainty[par.name] * par.unit\n",
    "    systematic_uncertainty = np.sqrt(np.abs(total_uncertainty**2 - statistic_uncertainty**2))\n",
    "    print(f\"{par.name} : {par.quantity.value:.3e} +/-\\t\"\n",
    "          f\" {statistic_uncertainty.value:.3e} (stat.) +/-\\t\"\n",
    "          f\" {systematic_uncertainty.value:.3e} (syst.) {par.quantity.unit}\")"
   ]
  },
  {
   "cell_type": "code",
   "execution_count": null,
   "id": "1d57a46f-29b2-4f21-80da-7c81cb593fa4",
   "metadata": {},
   "outputs": [],
   "source": [
    "fitted_params_with_energy_bias['amplitude'] *= 1e10\n",
    "\n",
    "figure = corner.corner(fitted_params_with_energy_bias,\n",
    "                       quantiles=[0.16, 0.5, 0.84],\n",
    "                       show_titles=True,\n",
    "                       title_kwargs={\"fontsize\": 12})"
   ]
  },
  {
   "cell_type": "markdown",
   "id": "0f82fcdb-bba2-4dff-b296-1f89068a0b55",
   "metadata": {},
   "source": [
    "Let's plot the resulting SED with the effect of the uncertainties on the energy scale:"
   ]
  },
  {
   "cell_type": "code",
   "execution_count": null,
   "id": "b858483d-6fb2-46fa-a40d-f5f514bcbdf9",
   "metadata": {},
   "outputs": [],
   "source": [
    "fig, ax = plt.subplots(figsize=(8, 6))\n",
    "\n",
    "plot_kwargs = {\n",
    "    \"energy_bounds\": [energy_edges[0], energy_edges[-1]],\n",
    "    \"sed_type\": \"e2dnde\",\n",
    "    \"yunits\": u.Unit(\"erg cm-2 s-1\"),\n",
    "    \"ax\": ax,\n",
    "}\n",
    "\n",
    "spec = XXX\n",
    "\n",
    "\n",
    "for i, result_biased in enumerate(results_biased):\n",
    "    XXX"
   ]
  },
  {
   "cell_type": "markdown",
   "id": "3c9df042-5122-4ad2-8ff2-39001fccf4e2",
   "metadata": {},
   "source": [
    "Let's have a look at the likelihood profiles for the fitted parameters and their correlations."
   ]
  },
  {
   "cell_type": "code",
   "execution_count": null,
   "id": "a1b34b8d-4147-4c19-b828-57bf31c6fd26",
   "metadata": {},
   "outputs": [],
   "source": [
    "# Likelihood profiles\n",
    "\n",
    "XXX"
   ]
  },
  {
   "cell_type": "code",
   "execution_count": null,
   "id": "dde826ca-c5ec-4867-9dd8-2186a3fae60a",
   "metadata": {
    "tags": []
   },
   "outputs": [],
   "source": [
    "# Parameters correlations\n",
    "\n",
    "XXX"
   ]
  },
  {
   "cell_type": "code",
   "execution_count": null,
   "id": "f8144311-e3f9-42a4-92f0-4f60434c3ce1",
   "metadata": {},
   "outputs": [],
   "source": []
  }
 ],
 "metadata": {
  "kernelspec": {
   "display_name": "Python (cads-2024)",
   "language": "python",
   "name": "cads-2024"
  },
  "language_info": {
   "codemirror_mode": {
    "name": "ipython",
    "version": 3
   },
   "file_extension": ".py",
   "mimetype": "text/x-python",
   "name": "python",
   "nbconvert_exporter": "python",
   "pygments_lexer": "ipython3",
   "version": "3.12.7"
  }
 },
 "nbformat": 4,
 "nbformat_minor": 5
}
