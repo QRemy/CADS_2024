{
 "cells": [
  {
   "cell_type": "markdown",
   "id": "f1cfd58c-95a1-4d45-825b-3c6b32e4d7bf",
   "metadata": {},
   "source": [
    "# 5. Timing analysis\n",
    "\n",
    "We will produce a light curve of Mrk 421 in two energy bands, compute the ratio of the fluxes and see if there is any hint of spectral variability.\n",
    "\n",
    "For this tutorial, we will need a few extra python packages (such as `astroquery` to query Virtual Observatory services)."
   ]
  },
  {
   "cell_type": "code",
   "execution_count": 1,
   "id": "07784890-cebe-4f5f-be1d-402f74d72b4d",
   "metadata": {
    "ExecuteTime": {
     "end_time": "2024-10-08T11:54:09.636402Z",
     "start_time": "2024-10-08T11:54:09.632778Z"
    }
   },
   "outputs": [],
   "source": [
    "# !mamba install -c conda-forge astroquery\n",
    "#\n",
    "# or:\n",
    "#\n",
    "# !mamba create -n cads-2024 -c conda-forge gammapy=1.2 ipykernel astroquery tqdm"
   ]
  },
  {
   "cell_type": "code",
   "execution_count": 2,
   "id": "16f0f9ca-9421-4418-a860-91fbfe9397c3",
   "metadata": {
    "ExecuteTime": {
     "end_time": "2024-10-08T11:54:11.635514Z",
     "start_time": "2024-10-08T11:54:09.678328Z"
    }
   },
   "outputs": [
    {
     "name": "stderr",
     "output_type": "stream",
     "text": [
      "/home/jlenain/local/opt/mambaforge/envs/cads-2024/lib/python3.12/site-packages/tqdm/auto.py:21: TqdmWarning: IProgress not found. Please update jupyter and ipywidgets. See https://ipywidgets.readthedocs.io/en/stable/user_install.html\n",
      "  from .autonotebook import tqdm as notebook_tqdm\n"
     ]
    }
   ],
   "source": [
    "import matplotlib\n",
    "import matplotlib.pyplot as plt\n",
    "import matplotlib.style as style\n",
    "style.use('tableau-colorblind10')\n",
    "\n",
    "import numpy as np\n",
    "\n",
    "from astropy import units as u\n",
    "from astropy.coordinates import SkyCoord, Angle\n",
    "from astropy.time import Time\n",
    "from astroquery.simbad import Simbad\n",
    "\n",
    "import scipy\n",
    "\n",
    "\n",
    "from gammapy.data import DataStore\n",
    "from gammapy.datasets import Datasets, SpectrumDataset, SpectrumDatasetOnOff\n",
    "from gammapy.estimators import FluxPointsEstimator, LightCurveEstimator\n",
    "from gammapy.estimators.utils import (\n",
    "    resample_energy_edges,\n",
    "    compute_lightcurve_fvar,\n",
    "    compute_lightcurve_fpp,\n",
    "    compute_lightcurve_doublingtime\n",
    ")\n",
    "from gammapy.makers import (\n",
    "    DatasetsMaker,\n",
    "    SafeMaskMaker,\n",
    "    SpectrumDatasetMaker,\n",
    "    ReflectedRegionsBackgroundMaker,\n",
    ")\n",
    "from gammapy.makers.utils import make_theta_squared_table\n",
    "from gammapy.maps import MapAxis, RegionGeom, WcsGeom\n",
    "from gammapy.modeling import Fit\n",
    "from gammapy.modeling.models import (\n",
    "    PowerLawSpectralModel,\n",
    "    PointSpatialModel,\n",
    "    SkyModel,\n",
    ")\n",
    "from gammapy.utils import pbar\n",
    "pbar.SHOW_PROGRESS_BAR = True\n",
    "from gammapy.visualization import plot_spectrum_datasets_off_regions, plot_theta_squared_table\n",
    "\n",
    "from regions import CircleSkyRegion\n",
    "\n",
    "from IPython.display import display"
   ]
  },
  {
   "cell_type": "markdown",
   "id": "f3bbde4b-6628-4b6f-93ed-826d848dcbb7",
   "metadata": {},
   "source": [
    "We first load the relevant data set:"
   ]
  },
  {
   "cell_type": "code",
   "execution_count": 3,
   "id": "0e5840d6-9e30-48bc-87c8-3bcdd46b1bf4",
   "metadata": {
    "ExecuteTime": {
     "end_time": "2024-10-08T11:54:11.875011Z",
     "start_time": "2024-10-08T11:54:11.735661Z"
    },
    "tags": []
   },
   "outputs": [],
   "source": [
    "data_store = DataStore.from_dir(\n",
    "    f\"$GAMMAPY_DATA/hess-dl3-dr1\"\n",
    ")"
   ]
  },
  {
   "cell_type": "markdown",
   "id": "7c870321-c069-4dcc-8211-bcafbe22e224",
   "metadata": {},
   "source": [
    "We set the properties of the source of interest. Bonus: we can use Virtual Observatory services to query the source parameters."
   ]
  },
  {
   "cell_type": "code",
   "execution_count": 4,
   "id": "232ed13c-a9e1-4653-9e56-ad2fe6f61e8f",
   "metadata": {
    "tags": []
   },
   "outputs": [],
   "source": [
    "src = dict()\n",
    "# src['Name'] = 'Mrk 421'\n",
    "src['Name'] = 'PKS 2155-304'\n",
    "src['Position'] = SkyCoord.from_name(src['Name'])\n",
    "\n",
    "try:\n",
    "    simbad = Simbad()\n",
    "    simbad.add_votable_fields(\"z_value\")\n",
    "    query = simbad.query_object(src['Name'])\n",
    "    src['Redshift'] = query[\"Z_VALUE\"].data[0]\n",
    "except NameError:\n",
    "    src['Redshift'] = 0.030"
   ]
  },
  {
   "cell_type": "markdown",
   "id": "4f633c98-19de-44c9-9747-4fd24fb4b370",
   "metadata": {},
   "source": [
    "We select a sub-sample of data acquired on our source:"
   ]
  },
  {
   "cell_type": "code",
   "execution_count": 5,
   "id": "38dabea5-5d5c-4a7c-8feb-256812ff788a",
   "metadata": {
    "tags": []
   },
   "outputs": [
    {
     "name": "stderr",
     "output_type": "stream",
     "text": [
      "Obs Id: 100%|██████████████████████████████████████████████████████████████████████████████████████████████████████████████████████████████████████████████████████████████████████████████████████████| 15/15 [00:00<00:00, 1120.75it/s]\n"
     ]
    }
   ],
   "source": [
    "selection = dict(\n",
    "    type=\"sky_circle\",\n",
    "    frame=\"icrs\",\n",
    "    lon=src['Position'].ra,\n",
    "    lat=src['Position'].dec,\n",
    "    radius=\"3 deg\",\n",
    ")\n",
    "selected_obs_table = data_store.obs_table.select_observations(selection)\n",
    "\n",
    "selection = dict(\n",
    "    type=\"time_box\",\n",
    "    time_range=Time([\"2006-07-29T12:00\", \"2006-07-30T12:00\"]),\n",
    ")\n",
    "selected_obs_table = selected_obs_table.select_observations(selection)\n",
    "\n",
    "obs_ids = selected_obs_table[\"OBS_ID\"]\n",
    "observations = data_store.get_observations(obs_ids)"
   ]
  },
  {
   "cell_type": "markdown",
   "id": "fbcef1d9-7b83-419d-823f-ff043f089016",
   "metadata": {},
   "source": [
    "# Data reduction\n",
    "\n",
    "Let's perform a 1D analysis of the data."
   ]
  },
  {
   "cell_type": "code",
   "execution_count": 6,
   "id": "512a4807-12c3-4bf5-982e-25d2272ff38d",
   "metadata": {},
   "outputs": [],
   "source": [
    "on_region_radius = Angle(\"0.1 deg\")\n",
    "\n",
    "on_region = CircleSkyRegion(center=src['Position'], radius=on_region_radius)\n",
    "exclusion_region = CircleSkyRegion(center=src['Position'],radius=0.5 * u.deg)\n",
    "geom = WcsGeom.create(\n",
    "    npix=(120, 120), binsz=0.05, skydir=src['Position'], proj=\"TAN\", frame=\"icrs\"\n",
    ")\n",
    "exclusion_mask = ~geom.region_mask([exclusion_region])"
   ]
  },
  {
   "cell_type": "code",
   "execution_count": 7,
   "id": "ca752e9c-b2b0-443b-8ad6-c7702b9ec876",
   "metadata": {},
   "outputs": [],
   "source": [
    "energy_axis = MapAxis.from_energy_bounds(0.02, 200, nbin=5, per_decade=True, unit=\"TeV\", name=\"energy\")\n",
    "energy_axis_true = MapAxis.from_energy_bounds(0.005, 300, nbin=10, per_decade=True, unit=\"TeV\", name=\"energy_true\")\n",
    "\n",
    "geom = RegionGeom.create(region=on_region, axes=[energy_axis])\n",
    "\n",
    "dataset_empty = SpectrumDataset.create(geom=geom, energy_axis_true=energy_axis_true)\n",
    "dataset_maker = SpectrumDatasetMaker(containment_correction=True, selection=[\"counts\", \"exposure\", \"edisp\"])\n",
    "\n",
    "bkg_maker = ReflectedRegionsBackgroundMaker(exclusion_mask=exclusion_mask)\n",
    "safe_mask_maker = SafeMaskMaker(methods=[\"aeff-max\"], aeff_percent=10)"
   ]
  },
  {
   "cell_type": "code",
   "execution_count": 8,
   "id": "257a4c21-9943-4072-9752-cec2af9cc4ba",
   "metadata": {},
   "outputs": [
    {
     "name": "stderr",
     "output_type": "stream",
     "text": [
      "Data reduction: 100%|█████████████████████████████████████████████████████████████████████████████████████████████████████████████████████████████████████████████████████████████████████████████████| 15/15 [00:00<00:00, 75709.46it/s]\n"
     ]
    },
    {
     "name": "stdout",
     "output_type": "stream",
     "text": [
      "CPU times: user 360 ms, sys: 62.6 ms, total: 423 ms\n",
      "Wall time: 1.66 s\n"
     ]
    }
   ],
   "source": [
    "%%time\n",
    "\n",
    "# Parallel version\n",
    "makers = [dataset_maker, bkg_maker, safe_mask_maker]  # the order matters\n",
    "datasets_maker = DatasetsMaker(makers, stack_datasets=False, n_jobs=8)\n",
    "datasets = datasets_maker.run(dataset_empty, observations)"
   ]
  },
  {
   "cell_type": "code",
   "execution_count": 9,
   "id": "a01293fe-9ec1-4c4a-8413-b4cc3fc6b911",
   "metadata": {},
   "outputs": [],
   "source": [
    "dataset_stack = datasets.stack_reduce()\n",
    "\n",
    "datasets_joint = Datasets()\n",
    "\n",
    "for dataset in datasets:\n",
    "    datasets_joint.append(dataset)"
   ]
  },
  {
   "cell_type": "markdown",
   "id": "47973ee1-734c-40ba-9bd1-032a088ba8af",
   "metadata": {},
   "source": [
    "Let's find the median energy of the data on our source to build two well-balanced sets into two energy bands:"
   ]
  },
  {
   "cell_type": "code",
   "execution_count": 10,
   "id": "faa8f6e9-23f9-4027-9083-d5b685073a61",
   "metadata": {},
   "outputs": [
    {
     "name": "stdout",
     "output_type": "stream",
     "text": [
      "Median energy: 1.002 TeV\n"
     ]
    }
   ],
   "source": [
    "excess = datasets[0].excess.data.T[0][0]\n",
    "mask = excess > 0\n",
    "excess = excess[mask]\n",
    "energy_bins = datasets[0].counts.geom.axes['energy'].center[mask]\n",
    "med_value = np.sum(excess) / 2.\n",
    "med_mask = np.cumsum(excess) > med_value\n",
    "e_median = energy_bins[med_mask][0]\n",
    "print(f'Median energy: {e_median:.3f}')"
   ]
  },
  {
   "cell_type": "code",
   "execution_count": 11,
   "id": "b1749b23-3920-47ff-bae1-b0bd7981f670",
   "metadata": {
    "tags": []
   },
   "outputs": [
    {
     "name": "stdout",
     "output_type": "stream",
     "text": [
      "Energy threshold: 0.200 TeV\n",
      "Maximal energy: 200.000 TeV\n"
     ]
    }
   ],
   "source": [
    "e_min = dataset_stack.energy_range_safe[0].data[0][0] * dataset_stack.energy_range_safe[0].unit\n",
    "e_max = dataset_stack.energy_range_safe[-1].data[0][0] * dataset_stack.energy_range_safe[0].unit\n",
    "print(f'Energy threshold: {e_min:.3f}')\n",
    "print(f'Maximal energy: {e_max:.3f}')"
   ]
  },
  {
   "cell_type": "markdown",
   "id": "ce98aedc-2735-4779-9581-7601ab1be5af",
   "metadata": {},
   "source": [
    "# Fit overall spectrum"
   ]
  },
  {
   "cell_type": "code",
   "execution_count": 12,
   "id": "f00fab8a-b32f-4811-8eaa-ac28bb878218",
   "metadata": {},
   "outputs": [],
   "source": [
    "spectral_model = PowerLawSpectralModel(amplitude=1.0e-11 * u.Unit(\"cm-2 s-1 TeV-1\"),\n",
    "                                       reference=e_median,\n",
    "                                       index=2.\n",
    "                                      )\n",
    "spectral_model.parameters[\"amplitude\"].frozen = False\n",
    "spectral_model.parameters[\"index\"].frozen = False"
   ]
  },
  {
   "cell_type": "code",
   "execution_count": 13,
   "id": "1ef9b550-bc97-4424-82d9-a55561e45edd",
   "metadata": {},
   "outputs": [],
   "source": [
    "source = SkyModel(spectral_model=spectral_model,\n",
    "                 name=src[\"Name\"])\n",
    "\n",
    "for ds in datasets_joint:\n",
    "    ds.models = source"
   ]
  },
  {
   "cell_type": "code",
   "execution_count": 14,
   "id": "0f28f83c-bc1f-49ca-b064-10e0bca9348b",
   "metadata": {},
   "outputs": [
    {
     "name": "stdout",
     "output_type": "stream",
     "text": [
      "CPU times: user 1.64 s, sys: 4.19 ms, total: 1.64 s\n",
      "Wall time: 1.64 s\n"
     ]
    }
   ],
   "source": [
    "%%time\n",
    "\n",
    "fit_joint = Fit()\n",
    "result_joint = fit_joint.run(datasets=datasets_joint)\n",
    "\n",
    "# we make a copy here of the optimised model for later use\n",
    "model_best_joint = source.copy(name=src[\"Name\"])"
   ]
  },
  {
   "cell_type": "code",
   "execution_count": 15,
   "id": "b1ab68a9-c910-454b-b9bf-c2eb729f0357",
   "metadata": {},
   "outputs": [
    {
     "name": "stdout",
     "output_type": "stream",
     "text": [
      "OptimizeResult\n",
      "\n",
      "\tbackend    : minuit\n",
      "\tmethod     : migrad\n",
      "\tsuccess    : True\n",
      "\tmessage    : Optimization terminated successfully.\n",
      "\tnfev       : 94\n",
      "\ttotal stat : 3249.22\n",
      "\n",
      "CovarianceResult\n",
      "\n",
      "\tbackend    : minuit\n",
      "\tmethod     : hesse\n",
      "\tsuccess    : True\n",
      "\tmessage    : Hesse terminated successfully.\n",
      "\n"
     ]
    },
    {
     "data": {
      "text/html": [
       "<div><i>Table length=3</i>\n",
       "<table id=\"table134049176591520\" class=\"table-striped table-bordered table-condensed\">\n",
       "<thead><tr><th>model</th><th>type</th><th>name</th><th>value</th><th>unit</th><th>error</th><th>min</th><th>max</th><th>frozen</th><th>is_norm</th><th>link</th><th>prior</th></tr></thead>\n",
       "<thead><tr><th>str12</th><th>str1</th><th>str9</th><th>float64</th><th>str14</th><th>float64</th><th>float64</th><th>float64</th><th>bool</th><th>bool</th><th>str1</th><th>str1</th></tr></thead>\n",
       "<tr><td>PKS 2155-304</td><td></td><td>index</td><td>3.3922e+00</td><td></td><td>1.726e-02</td><td>nan</td><td>nan</td><td>False</td><td>False</td><td></td><td></td></tr>\n",
       "<tr><td>PKS 2155-304</td><td></td><td>amplitude</td><td>7.7443e-11</td><td>TeV-1 s-1 cm-2</td><td>1.246e-12</td><td>nan</td><td>nan</td><td>False</td><td>True</td><td></td><td></td></tr>\n",
       "<tr><td>PKS 2155-304</td><td></td><td>reference</td><td>1.0024e+00</td><td>TeV</td><td>0.000e+00</td><td>nan</td><td>nan</td><td>True</td><td>False</td><td></td><td></td></tr>\n",
       "</table></div>"
      ],
      "text/plain": [
       "<Table length=3>\n",
       "   model     type    name     value    ... frozen is_norm link prior\n",
       "   str12     str1    str9    float64   ...  bool    bool  str1  str1\n",
       "------------ ---- --------- ---------- ... ------ ------- ---- -----\n",
       "PKS 2155-304          index 3.3922e+00 ...  False   False           \n",
       "PKS 2155-304      amplitude 7.7443e-11 ...  False    True           \n",
       "PKS 2155-304      reference 1.0024e+00 ...   True   False           "
      ]
     },
     "metadata": {},
     "output_type": "display_data"
    }
   ],
   "source": [
    "print(result_joint)\n",
    "display(result_joint.models.to_parameters_table())"
   ]
  },
  {
   "cell_type": "code",
   "execution_count": 16,
   "id": "25ab9d51-9689-4bd2-b2b4-41ced797135f",
   "metadata": {
    "tags": []
   },
   "outputs": [
    {
     "name": "stderr",
     "output_type": "stream",
     "text": [
      "Energy bins:  86%|██████████████████████████████████████████████████████████████████████████████████████████████████████████████████████████████████████████████████████████████▌                          | 6/7 [00:00<00:00, 12.30it/s]Reoptimize = False ignored for iminuit backend\n",
      "Reoptimize = False ignored for iminuit backend\n",
      "Reoptimize = False ignored for iminuit backend\n",
      "Reoptimize = False ignored for iminuit backend\n",
      "Reoptimize = False ignored for iminuit backend\n",
      "Reoptimize = False ignored for iminuit backend\n",
      "Reoptimize = False ignored for iminuit backend\n",
      "Reoptimize = False ignored for iminuit backend\n",
      "Scan values:   0%|                                                                                                                                                                                                | 0/11 [00:00<?, ?it/s]Reoptimize = False ignored for iminuit backend\n",
      "Scan values:  36%|██████████████████████████████████████████████████████████████████▉                                                                                                                     | 4/11 [00:00<00:00, 36.45it/s]Reoptimize = False ignored for iminuit backend\n",
      "Scan values:  73%|█████████████████████████████████████████████████████████████████████████████████████████████████████████████████████████████████████▊                                                  | 8/11 [00:00<00:00, 34.45it/s]Reoptimize = False ignored for iminuit backend\n",
      "Scan values: 100%|███████████████████████████████████████████████████████████████████████████████████████████████████████████████████████████████████████████████████████████████████████████████████████| 11/11 [00:00<00:00, 34.23it/s]\n",
      "Scan values: 100%|███████████████████████████████████████████████████████████████████████████████████████████████████████████████████████████████████████████████████████████████████████████████████████| 11/11 [00:00<00:00, 36.79it/s]\n",
      "\n",
      "Reoptimize = False ignored for iminuit backend\n",
      "Scan values: 100%|███████████████████████████████████████████████████████████████████████████████████████████████████████████████████████████████████████████████████████████████████████████████████████| 11/11 [00:00<00:00, 39.18it/s]\n",
      "Scan values: 100%|███████████████████████████████████████████████████████████████████████████████████████████████████████████████████████████████████████████████████████████████████████████████████████| 11/11 [00:00<00:00, 44.26it/s]\n",
      "Scan values: 100%|███████████████████████████████████████████████████████████████████████████████████████████████████████████████████████████████████████████████████████████████████████████████████████| 11/11 [00:00<00:00, 38.54it/s]\n",
      "Scan values: 100%|███████████████████████████████████████████████████████████████████████████████████████████████████████████████████████████████████████████████████████████████████████████████████████| 11/11 [00:00<00:00, 47.82it/s]\n",
      "Reoptimize = False ignored for iminuit backend\n",
      "Reoptimize = False ignored for iminuit backend\n",
      "Scan values: 100%|███████████████████████████████████████████████████████████████████████████████████████████████████████████████████████████████████████████████████████████████████████████████████████| 11/11 [00:00<00:00, 50.04it/s]\n"
     ]
    },
    {
     "name": "stdout",
     "output_type": "stream",
     "text": [
      "CPU times: user 913 ms, sys: 67.8 ms, total: 981 ms\n",
      "Wall time: 6.44 s\n"
     ]
    }
   ],
   "source": [
    "%%time\n",
    "\n",
    "# Compute flux points\n",
    "\n",
    "energy_edges = resample_energy_edges(dataset_stack, conditions={'sqrt_ts_min': 2.})\n",
    "\n",
    "fpe = FluxPointsEstimator(\n",
    "    energy_edges=energy_edges,\n",
    "    source=src[\"Name\"],\n",
    "    selection_optional=[\"errn-errp\", \"ul\", \"scan\"],\n",
    "    fit=fit_joint,\n",
    "    n_jobs=6,\n",
    ")\n",
    "flux_points = fpe.run(datasets_joint)"
   ]
  },
  {
   "cell_type": "code",
   "execution_count": 17,
   "id": "897b49ff-3402-4c53-aa97-c8f8b7c04363",
   "metadata": {
    "tags": []
   },
   "outputs": [
    {
     "data": {
      "text/plain": [
       "<Axes: xlabel='Energy [$\\\\mathrm{TeV}$]', ylabel='e2dnde [$\\\\mathrm{erg\\\\,s^{-1}\\\\,cm^{-2}}$]'>"
      ]
     },
     "execution_count": 17,
     "metadata": {},
     "output_type": "execute_result"
    },
    {
     "data": {
      "image/png": "[encoded data removed]",
      "text/plain": [
       "<Figure size 800x600 with 1 Axes>"
      ]
     },
     "metadata": {},
     "output_type": "display_data"
    }
   ],
   "source": [
    "fig, ax = plt.subplots(figsize=(8, 6))\n",
    "\n",
    "plot_kwargs = {\n",
    "    \"energy_bounds\": [e_min, e_max],\n",
    "    \"sed_type\": \"e2dnde\",\n",
    "    \"yunits\": u.Unit(\"erg cm-2 s-1\"),\n",
    "    \"ax\": ax,\n",
    "}\n",
    "\n",
    "# plot joint model\n",
    "model_best_joint.spectral_model.plot(\n",
    "    **plot_kwargs, ls=\"--\"\n",
    ")\n",
    "model_best_joint.spectral_model.plot_error(facecolor=\"grey\", alpha=0.7, **plot_kwargs)\n",
    "\n",
    "flux_points.plot(ax=plot_kwargs[\"ax\"],\n",
    "                 sed_type=plot_kwargs[\"sed_type\"],\n",
    "                 )"
   ]
  },
  {
   "cell_type": "markdown",
   "id": "c6351acc-3432-4356-8b8e-ff4cf52cf817",
   "metadata": {},
   "source": [
    "# Light curve"
   ]
  },
  {
   "cell_type": "markdown",
   "id": "40c2b7e3-2e46-4d97-9e6c-a3429910407e",
   "metadata": {},
   "source": [
    "Let's define a time axis and construct the light curve in two energy ranges"
   ]
  },
  {
   "cell_type": "code",
   "execution_count": 18,
   "id": "82fc75ff-dc71-4b96-8bd8-007011ca9701",
   "metadata": {
    "tags": []
   },
   "outputs": [
    {
     "data": {
      "text/plain": [
       "[<Time object: scale='tt' format='mjd' value=[53945.85113639 53945.870685  ]>,\n",
       " <Time object: scale='tt' format='mjd' value=[53945.87218963 53945.89173824]>,\n",
       " <Time object: scale='tt' format='mjd' value=[53945.89321972 53945.91275676]>,\n",
       " <Time object: scale='tt' format='mjd' value=[53945.91428454 53945.93384472]>,\n",
       " <Time object: scale='tt' format='mjd' value=[53945.93536093 53945.95490954]>,\n",
       " <Time object: scale='tt' format='mjd' value=[53945.95648361 53945.97602065]>,\n",
       " <Time object: scale='tt' format='mjd' value=[53945.97769889 53945.9972475 ]>,\n",
       " <Time object: scale='tt' format='mjd' value=[53946.00427296 53946.02381   ]>,\n",
       " <Time object: scale='tt' format='mjd' value=[53946.02567343 53946.04522204]>,\n",
       " <Time object: scale='tt' format='mjd' value=[53946.04678454 53946.06633315]>,\n",
       " <Time object: scale='tt' format='mjd' value=[53946.06796509 53946.0875137 ]>,\n",
       " <Time object: scale='tt' format='mjd' value=[53946.08914565 53946.10869426]>,\n",
       " <Time object: scale='tt' format='mjd' value=[53946.1104188  53946.12996741]>,\n",
       " <Time object: scale='tt' format='mjd' value=[53946.13142574 53946.15097435]>,\n",
       " <Time object: scale='tt' format='mjd' value=[53946.15253685 53946.17208546]>]"
      ]
     },
     "execution_count": 18,
     "metadata": {},
     "output_type": "execute_result"
    }
   ],
   "source": [
    "time_intervals = [Time([obs.tstart, obs.tstop]) for obs in observations]\n",
    "time_intervals"
   ]
  },
  {
   "cell_type": "code",
   "execution_count": 19,
   "id": "2f66c174-7c48-4997-b8ad-afca0da08aac",
   "metadata": {
    "tags": []
   },
   "outputs": [],
   "source": [
    "energy_lo = [e_min.value, e_median.value] * e_min.unit\n",
    "energy_hi = [e_median.value, e_max.value] * e_max.unit\n",
    "energy_all = [e_min.value, e_max.value] * e_min.unit\n",
    "\n",
    "e_ranges = [energy_lo, energy_hi, energy_all]"
   ]
  },
  {
   "cell_type": "code",
   "execution_count": 20,
   "id": "aa8768c8-ab37-44a9-85ad-a4375a606ae5",
   "metadata": {},
   "outputs": [
    {
     "name": "stderr",
     "output_type": "stream",
     "text": [
      "Time intervals selection: 100%|█████████████████████████████████████████████████████████████████████████████████████████████████████████████████████████████████████████████████████████████████████████| 15/15 [00:00<00:00, 163.30it/s]\n",
      "Energy bins:   0%|                                                                                                                                                                                                 | 0/2 [00:00<?, ?it/s]\n",
      "Scan values:   0%|                                                                                                                                                                                                | 0/11 [00:00<?, ?it/s]\u001b[A\n",
      "Scan values: 100%|██████████████████████████████████████████████████████████████████████████████████████████████████████████████████████████████████████████████████████████████████████████████████████| 11/11 [00:00<00:00, 486.82it/s]\u001b[A\n",
      "Scan values: 100%|██████████████████████████████████████████████████████████████████████████████████████████████████████████████████████████████████████████████████████████████████████████████████████| 11/11 [00:00<00:00, 464.90it/s]\n",
      "Energy bins: 100%|█████████████████████████████████████████████████████████████████████████████████████████████████████████████████████████████████████████████████████████████████████████████████████████| 2/2 [00:00<00:00,  5.50it/s]\n",
      "\n",
      "Scan values: 100%|██████████████████████████████████████████████████████████████████████████████████████████████████████████████████████████████████████████████████████████████████████████████████████| 11/11 [00:00<00:00, 489.61it/s]\u001b[A\n",
      "Energy bins:  50%|████████████████████████████████████████████████████████████████████████████████████████████▌                                                                                            | 1/2 [00:00<00:00,  2.56it/s]\n",
      "Scan values:   0%|                                                                                                                                                                                                | 0/11 [00:00<?, ?it/s]\u001b[A\n",
      "Scan values:   0%|                                                                                                                                                                                                | 0/11 [00:00<?, ?it/s]\u001b[A\n",
      "Scan values: 100%|██████████████████████████████████████████████████████████████████████████████████████████████████████████████████████████████████████████████████████████████████████████████████████| 11/11 [00:00<00:00, 439.28it/s]\u001b[A\n",
      "Scan values: 100%|██████████████████████████████████████████████████████████████████████████████████████████████████████████████████████████████████████████████████████████████████████████████████████| 11/11 [00:00<00:00, 416.10it/s]\n",
      "Scan values: 100%|██████████████████████████████████████████████████████████████████████████████████████████████████████████████████████████████████████████████████████████████████████████████████████| 11/11 [00:00<00:00, 404.21it/s]\n",
      "Energy bins: 100%|█████████████████████████████████████████████████████████████████████████████████████████████████████████████████████████████████████████████████████████████████████████████████████████| 2/2 [00:00<00:00,  4.22it/s]\n",
      "Energy bins:   0%|                                                                                                                                                                                                 | 0/2 [00:00<?, ?it/s]\n",
      "Scan values: 100%|██████████████████████████████████████████████████████████████████████████████████████████████████████████████████████████████████████████████████████████████████████████████████████| 11/11 [00:00<00:00, 676.98it/s]\u001b[A\n",
      "Energy bins: 100%|█████████████████████████████████████████████████████████████████████████████████████████████████████████████████████████████████████████████████████████████████████████████████████████| 2/2 [00:00<00:00,  2.94it/s]\n",
      "Time intervals:  67%|████████████████████████████████████████████████████████████████████████████████████████████████████████████████████████                                                            | 10/15 [00:00<00:00, 12.15it/s]\n",
      "Energy bins:   0%|                                                                                                                                                                                                 | 0/2 [00:00<?, ?it/s]\u001b[A\n",
      "Scan values: 100%|██████████████████████████████████████████████████████████████████████████████████████████████████████████████████████████████████████████████████████████████████████████████████████| 11/11 [00:00<00:00, 522.06it/s]\u001b[A\n",
      "Scan values: 100%|██████████████████████████████████████████████████████████████████████████████████████████████████████████████████████████████████████████████████████████████████████████████████████| 11/11 [00:00<00:00, 438.09it/s]\n",
      "Energy bins: 100%|█████████████████████████████████████████████████████████████████████████████████████████████████████████████████████████████████████████████████████████████████████████████████████████| 2/2 [00:00<00:00,  2.60it/s]\n",
      "\n",
      "Scan values:   0%|                                                                                                                                                                                                | 0/11 [00:00<?, ?it/s]\u001b[A\n",
      "Scan values: 100%|██████████████████████████████████████████████████████████████████████████████████████████████████████████████████████████████████████████████████████████████████████████████████████| 11/11 [00:00<00:00, 405.76it/s]\u001b[A\n",
      "Energy bins: 100%|█████████████████████████████████████████████████████████████████████████████████████████████████████████████████████████████████████████████████████████████████████████████████████████| 2/2 [00:00<00:00,  2.46it/s]\n",
      "Scan values: 100%|██████████████████████████████████████████████████████████████████████████████████████████████████████████████████████████████████████████████████████████████████████████████████████| 11/11 [00:00<00:00, 466.43it/s]\n",
      "Energy bins: 100%|█████████████████████████████████████████████████████████████████████████████████████████████████████████████████████████████████████████████████████████████████████████████████████████| 2/2 [00:00<00:00,  2.41it/s]\n",
      "\n",
      "Scan values: 100%|██████████████████████████████████████████████████████████████████████████████████████████████████████████████████████████████████████████████████████████████████████████████████████| 11/11 [00:00<00:00, 433.51it/s]\u001b[A\n",
      "Energy bins:   0%|                                                                                                                                                                                                 | 0/2 [00:00<?, ?it/s]\n",
      "Scan values: 100%|██████████████████████████████████████████████████████████████████████████████████████████████████████████████████████████████████████████████████████████████████████████████████████| 11/11 [00:00<00:00, 478.33it/s]\u001b[A\n",
      "\n",
      "Scan values: 100%|██████████████████████████████████████████████████████████████████████████████████████████████████████████████████████████████████████████████████████████████████████████████████████| 11/11 [00:00<00:00, 507.52it/s]\u001b[A\n",
      "Energy bins: 100%|█████████████████████████████████████████████████████████████████████████████████████████████████████████████████████████████████████████████████████████████████████████████████████████| 2/2 [00:00<00:00,  3.01it/s]\n",
      "Energy bins:   0%|                                                                                                                                                                                                 | 0/2 [00:00<?, ?it/s]\n",
      "Scan values:   0%|                                                                                                                                                                                                | 0/11 [00:00<?, ?it/s]\u001b[A\n",
      "Scan values:   0%|                                                                                                                                                                                                | 0/11 [00:00<?, ?it/s]\u001b[A\n",
      "Scan values:   0%|                                                                                                                                                                                                | 0/11 [00:00<?, ?it/s]\u001b[A\n",
      "Scan values: 100%|██████████████████████████████████████████████████████████████████████████████████████████████████████████████████████████████████████████████████████████████████████████████████████| 11/11 [00:00<00:00, 464.43it/s]\u001b[A\n",
      "Scan values: 100%|██████████████████████████████████████████████████████████████████████████████████████████████████████████████████████████████████████████████████████████████████████████████████████| 11/11 [00:00<00:00, 473.17it/s]\n",
      "Energy bins: 100%|█████████████████████████████████████████████████████████████████████████████████████████████████████████████████████████████████████████████████████████████████████████████████████████| 2/2 [00:00<00:00,  2.76it/s]\n",
      "Scan values: 100%|██████████████████████████████████████████████████████████████████████████████████████████████████████████████████████████████████████████████████████████████████████████████████████| 11/11 [00:00<00:00, 416.77it/s]\n",
      "\n",
      "Energy bins:   0%|                                                                                                                                                                                                 | 0/2 [00:00<?, ?it/s]\n",
      "\n",
      "Scan values: 100%|██████████████████████████████████████████████████████████████████████████████████████████████████████████████████████████████████████████████████████████████████████████████████████| 11/11 [00:00<00:00, 432.22it/s]\u001b[A\n",
      "Energy bins: 100%|█████████████████████████████████████████████████████████████████████████████████████████████████████████████████████████████████████████████████████████████████████████████████████████| 2/2 [00:00<00:00,  2.77it/s]\n",
      "\n",
      "Scan values: 100%|██████████████████████████████████████████████████████████████████████████████████████████████████████████████████████████████████████████████████████████████████████████████████████| 11/11 [00:00<00:00, 434.24it/s]\u001b[A\n",
      "\n",
      "Scan values: 100%|██████████████████████████████████████████████████████████████████████████████████████████████████████████████████████████████████████████████████████████████████████████████████████| 11/11 [00:00<00:00, 466.68it/s]\u001b[A\n",
      "Energy bins: 100%|█████████████████████████████████████████████████████████████████████████████████████████████████████████████████████████████████████████████████████████████████████████████████████████| 2/2 [00:00<00:00,  2.68it/s]\n",
      "\n",
      "Scan values:   0%|                                                                                                                                                                                                | 0/11 [00:00<?, ?it/s]\u001b[A\n",
      "Scan values: 100%|██████████████████████████████████████████████████████████████████████████████████████████████████████████████████████████████████████████████████████████████████████████████████████| 11/11 [00:00<00:00, 483.87it/s]\u001b[A\n",
      "Energy bins: 100%|█████████████████████████████████████████████████████████████████████████████████████████████████████████████████████████████████████████████████████████████████████████████████████████| 2/2 [00:00<00:00,  2.67it/s]\n",
      "Scan values: 100%|██████████████████████████████████████████████████████████████████████████████████████████████████████████████████████████████████████████████████████████████████████████████████████| 11/11 [00:00<00:00, 470.02it/s]\n",
      "Energy bins: 100%|█████████████████████████████████████████████████████████████████████████████████████████████████████████████████████████████████████████████████████████████████████████████████████████| 2/2 [00:00<00:00,  2.66it/s]\n",
      "\n",
      "Scan values: 100%|██████████████████████████████████████████████████████████████████████████████████████████████████████████████████████████████████████████████████████████████████████████████████████| 11/11 [00:00<00:00, 689.39it/s]\u001b[A\n",
      "Energy bins:  50%|████████████████████████████████████████████████████████████████████████████████████████████▌                                                                                            | 1/2 [00:00<00:00,  2.54it/s]\n",
      "Scan values: 100%|██████████████████████████████████████████████████████████████████████████████████████████████████████████████████████████████████████████████████████████████████████████████████████| 11/11 [00:00<00:00, 604.55it/s]\u001b[A\n",
      "Energy bins: 100%|█████████████████████████████████████████████████████████████████████████████████████████████████████████████████████████████████████████████████████████████████████████████████████████| 2/2 [00:00<00:00,  5.41it/s]\n",
      "\n",
      "Scan values: 100%|██████████████████████████████████████████████████████████████████████████████████████████████████████████████████████████████████████████████████████████████████████████████████████| 11/11 [00:00<00:00, 693.39it/s]\u001b[A\n",
      "Energy bins: 100%|█████████████████████████████████████████████████████████████████████████████████████████████████████████████████████████████████████████████████████████████████████████████████████████| 2/2 [00:00<00:00,  2.34it/s]\n",
      "\n",
      "Scan values: 100%|██████████████████████████████████████████████████████████████████████████████████████████████████████████████████████████████████████████████████████████████████████████████████████| 11/11 [00:00<00:00, 547.52it/s]\u001b[A\n",
      "Energy bins: 100%|█████████████████████████████████████████████████████████████████████████████████████████████████████████████████████████████████████████████████████████████████████████████████████████| 2/2 [00:00<00:00,  2.59it/s]\n"
     ]
    }
   ],
   "source": [
    "lc_maker = LightCurveEstimator(energy_edges=[e_min, e_median, e_max],\n",
    "                               source=model_best_joint.name,\n",
    "                               time_intervals=time_intervals,\n",
    "                               selection_optional=[\"errn-errp\", \"ul\", \"scan\"],\n",
    "                               n_jobs=6,\n",
    "                              )\n",
    "lc = lc_maker.run(datasets_joint)"
   ]
  },
  {
   "cell_type": "code",
   "execution_count": 21,
   "id": "ab5dd193-1f06-4f2e-b95f-8a7ffd0406b0",
   "metadata": {},
   "outputs": [
    {
     "ename": "ValueError",
     "evalue": "Plotting a region map with multiple extra axes requires specifying the 'axis_name' keyword.",
     "output_type": "error",
     "traceback": [
      "\u001b[0;31m---------------------------------------------------------------------------\u001b[0m",
      "\u001b[0;31mValueError\u001b[0m                                Traceback (most recent call last)",
      "Cell \u001b[0;32mIn[21], line 1\u001b[0m\n\u001b[0;32m----> 1\u001b[0m \u001b[43mlc\u001b[49m\u001b[38;5;241;43m.\u001b[39;49m\u001b[43mplot\u001b[49m\u001b[43m(\u001b[49m\u001b[43msed_type\u001b[49m\u001b[38;5;241;43m=\u001b[39;49m\u001b[38;5;124;43m\"\u001b[39;49m\u001b[38;5;124;43mflux\u001b[39;49m\u001b[38;5;124;43m\"\u001b[39;49m\u001b[43m,\u001b[49m\u001b[43m \u001b[49m\u001b[43mtime_format\u001b[49m\u001b[38;5;241;43m=\u001b[39;49m\u001b[38;5;124;43m\"\u001b[39;49m\u001b[38;5;124;43mmjd\u001b[39;49m\u001b[38;5;124;43m\"\u001b[39;49m\u001b[43m,\u001b[49m\u001b[43m)\u001b[49m\n",
      "File \u001b[0;32m~/local/opt/mambaforge/envs/cads-2024/lib/python3.12/site-packages/gammapy/estimators/points/core.py:671\u001b[0m, in \u001b[0;36mFluxPoints.plot\u001b[0;34m(self, ax, sed_type, energy_power, time_format, **kwargs)\u001b[0m\n\u001b[1;32m    669\u001b[0m \u001b[38;5;28;01mif\u001b[39;00m \u001b[38;5;124m\"\u001b[39m\u001b[38;5;124mtime\u001b[39m\u001b[38;5;124m\"\u001b[39m \u001b[38;5;129;01min\u001b[39;00m flux\u001b[38;5;241m.\u001b[39mgeom\u001b[38;5;241m.\u001b[39maxes_names:\n\u001b[1;32m    670\u001b[0m     flux\u001b[38;5;241m.\u001b[39mgeom\u001b[38;5;241m.\u001b[39maxes[\u001b[38;5;124m\"\u001b[39m\u001b[38;5;124mtime\u001b[39m\u001b[38;5;124m\"\u001b[39m]\u001b[38;5;241m.\u001b[39mtime_format \u001b[38;5;241m=\u001b[39m time_format\n\u001b[0;32m--> 671\u001b[0m ax \u001b[38;5;241m=\u001b[39m \u001b[43mflux\u001b[49m\u001b[38;5;241;43m.\u001b[39;49m\u001b[43mplot\u001b[49m\u001b[43m(\u001b[49m\u001b[43max\u001b[49m\u001b[38;5;241;43m=\u001b[39;49m\u001b[43max\u001b[49m\u001b[43m,\u001b[49m\u001b[43m \u001b[49m\u001b[38;5;241;43m*\u001b[39;49m\u001b[38;5;241;43m*\u001b[39;49m\u001b[43mkwargs\u001b[49m\u001b[43m)\u001b[49m\n\u001b[1;32m    672\u001b[0m ax\u001b[38;5;241m.\u001b[39mset_ylabel(\u001b[38;5;124mf\u001b[39m\u001b[38;5;124m\"\u001b[39m\u001b[38;5;132;01m{\u001b[39;00msed_type\u001b[38;5;132;01m}\u001b[39;00m\u001b[38;5;124m [\u001b[39m\u001b[38;5;132;01m{\u001b[39;00max\u001b[38;5;241m.\u001b[39myaxis\u001b[38;5;241m.\u001b[39munits\u001b[38;5;241m.\u001b[39mto_string(UNIT_STRING_FORMAT)\u001b[38;5;132;01m}\u001b[39;00m\u001b[38;5;124m]\u001b[39m\u001b[38;5;124m\"\u001b[39m)\n\u001b[1;32m    673\u001b[0m ax\u001b[38;5;241m.\u001b[39mset_yscale(\u001b[38;5;124m\"\u001b[39m\u001b[38;5;124mlog\u001b[39m\u001b[38;5;124m\"\u001b[39m)\n",
      "File \u001b[0;32m~/local/opt/mambaforge/envs/cads-2024/lib/python3.12/site-packages/gammapy/maps/region/ndmap.py:85\u001b[0m, in \u001b[0;36mRegionNDMap.plot\u001b[0;34m(self, ax, axis_name, **kwargs)\u001b[0m\n\u001b[1;32m     83\u001b[0m         axis_name \u001b[38;5;241m=\u001b[39m \u001b[38;5;28mself\u001b[39m\u001b[38;5;241m.\u001b[39mgeom\u001b[38;5;241m.\u001b[39maxes\u001b[38;5;241m.\u001b[39mprimary_axis\u001b[38;5;241m.\u001b[39mname\n\u001b[1;32m     84\u001b[0m     \u001b[38;5;28;01melse\u001b[39;00m:\n\u001b[0;32m---> 85\u001b[0m         \u001b[38;5;28;01mraise\u001b[39;00m \u001b[38;5;167;01mValueError\u001b[39;00m(\n\u001b[1;32m     86\u001b[0m             \u001b[38;5;124m\"\u001b[39m\u001b[38;5;124mPlotting a region map with multiple extra axes requires \u001b[39m\u001b[38;5;124m\"\u001b[39m\n\u001b[1;32m     87\u001b[0m             \u001b[38;5;124m\"\u001b[39m\u001b[38;5;124mspecifying the \u001b[39m\u001b[38;5;124m'\u001b[39m\u001b[38;5;124maxis_name\u001b[39m\u001b[38;5;124m'\u001b[39m\u001b[38;5;124m keyword.\u001b[39m\u001b[38;5;124m\"\u001b[39m\n\u001b[1;32m     88\u001b[0m         )\n\u001b[1;32m     90\u001b[0m axis \u001b[38;5;241m=\u001b[39m \u001b[38;5;28mself\u001b[39m\u001b[38;5;241m.\u001b[39mgeom\u001b[38;5;241m.\u001b[39maxes[axis_name]\n\u001b[1;32m     92\u001b[0m kwargs\u001b[38;5;241m.\u001b[39msetdefault(\u001b[38;5;124m\"\u001b[39m\u001b[38;5;124mmarker\u001b[39m\u001b[38;5;124m\"\u001b[39m, \u001b[38;5;124m\"\u001b[39m\u001b[38;5;124mo\u001b[39m\u001b[38;5;124m\"\u001b[39m)\n",
      "\u001b[0;31mValueError\u001b[0m: Plotting a region map with multiple extra axes requires specifying the 'axis_name' keyword."
     ]
    },
    {
     "data": {
      "image/png": "[encoded data removed]",
      "text/plain": [
       "<Figure size 640x480 with 1 Axes>"
      ]
     },
     "metadata": {},
     "output_type": "display_data"
    }
   ],
   "source": [
    "lc.plot(sed_type=\"flux\", time_format=\"mjd\",)"
   ]
  },
  {
   "cell_type": "code",
   "execution_count": null,
   "id": "470b805d-dc3c-4a66-aa1c-661da51931bf",
   "metadata": {
    "tags": []
   },
   "outputs": [],
   "source": [
    "lcs = []\n",
    "\n",
    "for e_range in e_ranges:\n",
    "    print(f\"Running light curve estimator on energy range: {e_range}\")\n",
    "    lc_maker = LightCurveEstimator(energy_edges=e_range,\n",
    "                               source=model_best_joint.name,\n",
    "                               time_intervals=time_intervals,\n",
    "                               selection_optional=[\"errn-errp\", \"ul\", \"scan\"],\n",
    "                               n_jobs=6,\n",
    "                              )\n",
    "    # lc_maker.n_sigma = 1.\n",
    "    # lc_maker.n_sigma_ul = 3.\n",
    "\n",
    "    #try:\n",
    "    lc = lc_maker.run(datasets_joint)\n",
    "    #except ValueError:\n",
    "    #    continue\n",
    "    lcs.append(lc)"
   ]
  },
  {
   "cell_type": "code",
   "execution_count": null,
   "id": "b95d6c89-ac32-40a0-a7cf-f02aab76da73",
   "metadata": {
    "tags": []
   },
   "outputs": [],
   "source": [
    "fig, ax = plt.subplots(len(lcs), figsize=(8,12))\n",
    "\n",
    "for i, lc in enumerate(lcs):\n",
    "    lc.plot(ax=ax[i],\n",
    "            sed_type=\"flux\",\n",
    "            time_format=\"mjd\",\n",
    "            label=f'Energy range: {e_ranges[i]}',\n",
    "           )\n",
    "    ax[i].set_yscale('linear')\n",
    "    ax[i].set_ylabel(f'Flux ({e_ranges[i][0]:.3f}-{e_ranges[i][1]:.3f}) [{lc.flux.unit}]')\n",
    "    ax[i].legend()"
   ]
  },
  {
   "cell_type": "markdown",
   "id": "3179216e-651b-40f4-b070-fed44bc4feba",
   "metadata": {},
   "source": [
    "# Fractional and point-to-point variability"
   ]
  },
  {
   "cell_type": "code",
   "execution_count": null,
   "id": "6098a612-a764-4f78-83b6-5338518fc475",
   "metadata": {
    "tags": []
   },
   "outputs": [],
   "source": [
    "for i, lc in enumerate(lcs):\n",
    "    compute_lightcurve_fvar(lc, flux_quantity='flux').pprint_all()"
   ]
  },
  {
   "cell_type": "code",
   "execution_count": null,
   "id": "e5808ad4-8010-49a4-b1ab-3f73f200ed04",
   "metadata": {
    "tags": []
   },
   "outputs": [],
   "source": [
    "for i, lc in enumerate(lcs):\n",
    "    compute_lightcurve_fpp(lc, flux_quantity='flux').pprint_all()"
   ]
  },
  {
   "cell_type": "code",
   "execution_count": null,
   "id": "a77097b2-9acb-494f-b78b-86cd5ce66902",
   "metadata": {
    "tags": []
   },
   "outputs": [],
   "source": [
    "for i, lc in enumerate(lcs):\n",
    "    compute_lightcurve_doublingtime(lc, flux_quantity='flux').pprint_all()"
   ]
  },
  {
   "cell_type": "markdown",
   "id": "c5a9bf8b-6366-4af0-9e5c-078f25acbc9f",
   "metadata": {},
   "source": [
    "# Hardness ratio diagrams\n",
    "\n",
    "Let's compute the flux ratio of our two light curves, plot them against time, and against the overall flux (i.e. hardness ratio diagram)."
   ]
  },
  {
   "cell_type": "code",
   "execution_count": null,
   "id": "adc634d2-df66-4717-bef8-78687c195e16",
   "metadata": {
    "tags": []
   },
   "outputs": [],
   "source": [
    "# flux_ratio = lcs[0]/lcs[1]"
   ]
  },
  {
   "cell_type": "markdown",
   "id": "126eb433-07c3-44a9-8359-9c5686af9d4f",
   "metadata": {},
   "source": [
    "This won't work (try it!). Let's have a look at https://docs.gammapy.org/1.2/api/gammapy.estimators.FluxPoints.html"
   ]
  },
  {
   "cell_type": "code",
   "execution_count": null,
   "id": "69098e48-a381-401d-a82b-22fdabab560f",
   "metadata": {
    "tags": []
   },
   "outputs": [],
   "source": [
    "lcs[0].to_table()"
   ]
  },
  {
   "cell_type": "code",
   "execution_count": null,
   "id": "f9892f7f-1f71-42cf-814f-4decf30544c9",
   "metadata": {
    "tags": []
   },
   "outputs": [],
   "source": [
    "flux_ratio = lcs[1].flux.data.flatten()/lcs[0].flux.data.flatten()\n",
    "flux_ratio_err = flux_ratio * np.sqrt((lcs[0].flux_err.data.flatten()/lcs[0].flux.data.flatten())**2+(lcs[1].flux_err.data.flatten()/lcs[1].flux.data.flatten())**2)"
   ]
  },
  {
   "cell_type": "code",
   "execution_count": null,
   "id": "e1d2cb49-3396-4122-a7e5-1e0091993d6f",
   "metadata": {
    "tags": []
   },
   "outputs": [],
   "source": [
    "t_mean = [0.5*(t[0].mjd+t[1].mjd) for t in time_intervals]"
   ]
  },
  {
   "cell_type": "code",
   "execution_count": null,
   "id": "10e36bd9-c12f-464c-8f23-14ff39700c2d",
   "metadata": {
    "tags": []
   },
   "outputs": [],
   "source": [
    "plt.errorbar(x=t_mean, y=flux_ratio, yerr=flux_ratio_err, fmt='o')\n",
    "plt.xlabel(\"Time (MJD)\")\n",
    "plt.ylabel(f\"Hardness ratio ({e_ranges[1][0]:.1f}-{e_ranges[1][1]:.1f}/{e_ranges[0][0]:.1f}-{e_ranges[0][1]:.1f})\")"
   ]
  },
  {
   "cell_type": "code",
   "execution_count": null,
   "id": "134c6585-2837-4e38-98ad-f4bbfe561c58",
   "metadata": {
    "tags": []
   },
   "outputs": [],
   "source": [
    "fig, ax = plt.subplots(figsize=(8,6))\n",
    "\n",
    "t = ((t_mean-t_mean[0]) * u.d).to(u.h)\n",
    "\n",
    "cmap_norm = matplotlib.colors.Normalize(vmin=min(t.value), vmax=max(t.value))\n",
    "mapper = matplotlib.cm.ScalarMappable(norm=cmap_norm, cmap='cividis')\n",
    "time_colors = np.array([(mapper.to_rgba(_)) for _ in t.value])\n",
    "\n",
    "for _x, _y, _ex, _ey, _color in zip(flux_ratio, lcs[2].flux.data.flatten(), flux_ratio_err, lcs[2].flux_err.data.flatten(), time_colors):\n",
    "    ax.plot(_x, _y, 'o', color=_color)\n",
    "    ax.errorbar(x=_x,\n",
    "                xerr=_ex,\n",
    "                y=_y,\n",
    "                yerr=_ey,\n",
    "                color=_color,\n",
    "               )\n",
    "ax.set_xlabel(f\"Hardness ratio ({e_ranges[1][0]:.1f}-{e_ranges[1][1]:.1f}/{e_ranges[0][0]:.1f}-{e_ranges[0][1]:.1f})\")\n",
    "ax.set_ylabel(f\"Flux ({e_ranges[2][0]:.1f}-{e_ranges[2][1]:.1f})\")\n",
    "fig.colorbar(mapper, ax=ax, orientation='vertical', label=\"Time (h)\")"
   ]
  },
  {
   "cell_type": "code",
   "execution_count": null,
   "id": "40bdb3bd-fdfb-4e84-bf15-44c39f3f76e6",
   "metadata": {},
   "outputs": [],
   "source": []
  }
 ],
 "metadata": {
  "kernelspec": {
   "display_name": "Python (cads-2024)",
   "language": "python",
   "name": "cads-2024"
  },
  "language_info": {
   "codemirror_mode": {
    "name": "ipython",
    "version": 3
   },
   "file_extension": ".py",
   "mimetype": "text/x-python",
   "name": "python",
   "nbconvert_exporter": "python",
   "pygments_lexer": "ipython3",
   "version": "3.12.7"
  }
 },
 "nbformat": 4,
 "nbformat_minor": 5
}
