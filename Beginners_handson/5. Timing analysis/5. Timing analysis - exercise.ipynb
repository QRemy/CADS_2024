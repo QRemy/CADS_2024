{
 "cells": [
  {
   "cell_type": "markdown",
   "id": "f1cfd58c-95a1-4d45-825b-3c6b32e4d7bf",
   "metadata": {},
   "source": [
    "# 5. Timing analysis\n",
    "\n",
    "We will produce a light curve of Mrk 421 in two energy bands, compute the ratio of the fluxes and see if there is any hint of spectral variability.\n",
    "\n",
    "For this tutorial, we will need a few extra python packages (such as `astroquery` to query Virtual Observatory services)."
   ]
  },
  {
   "cell_type": "code",
   "execution_count": null,
   "id": "07784890-cebe-4f5f-be1d-402f74d72b4d",
   "metadata": {
    "ExecuteTime": {
     "end_time": "2024-10-08T11:54:09.636402Z",
     "start_time": "2024-10-08T11:54:09.632778Z"
    }
   },
   "outputs": [],
   "source": [
    "# !mamba install -c conda-forge astroquery\n",
    "#\n",
    "# or:\n",
    "#\n",
    "# !mamba create -n cads-2024 -c conda-forge gammapy=1.2 ipykernel astroquery tqdm"
   ]
  },
  {
   "cell_type": "code",
   "execution_count": null,
   "id": "16f0f9ca-9421-4418-a860-91fbfe9397c3",
   "metadata": {
    "ExecuteTime": {
     "end_time": "2024-10-08T11:54:11.635514Z",
     "start_time": "2024-10-08T11:54:09.678328Z"
    }
   },
   "outputs": [],
   "source": [
    "import matplotlib\n",
    "import matplotlib.pyplot as plt\n",
    "import matplotlib.style as style\n",
    "style.use('tableau-colorblind10')\n",
    "\n",
    "import numpy as np\n",
    "\n",
    "from astropy import units as u\n",
    "from astropy.coordinates import SkyCoord, Angle\n",
    "from astropy.time import Time\n",
    "from astroquery.simbad import Simbad\n",
    "\n",
    "import scipy\n",
    "\n",
    "\n",
    "from gammapy.data import DataStore\n",
    "from gammapy.datasets import Datasets, SpectrumDataset, SpectrumDatasetOnOff\n",
    "from gammapy.estimators import FluxPointsEstimator, LightCurveEstimator\n",
    "from gammapy.estimators.utils import (\n",
    "    compute_lightcurve_fvar,\n",
    "    compute_lightcurve_fpp,\n",
    "    compute_lightcurve_doublingtime,\n",
    "    get_rebinned_axis,\n",
    "    resample_energy_edges,\n",
    ")\n",
    "from gammapy.makers import (\n",
    "    DatasetsMaker,\n",
    "    SafeMaskMaker,\n",
    "    SpectrumDatasetMaker,\n",
    "    ReflectedRegionsBackgroundMaker,\n",
    ")\n",
    "from gammapy.makers.utils import make_theta_squared_table\n",
    "from gammapy.maps import MapAxis, RegionGeom, WcsGeom\n",
    "from gammapy.modeling import Fit\n",
    "from gammapy.modeling.models import (\n",
    "    PowerLawSpectralModel,\n",
    "    PointSpatialModel,\n",
    "    SkyModel,\n",
    ")\n",
    "from gammapy.utils import pbar\n",
    "pbar.SHOW_PROGRESS_BAR = True\n",
    "from gammapy.visualization import plot_spectrum_datasets_off_regions, plot_theta_squared_table\n",
    "\n",
    "from regions import CircleSkyRegion\n",
    "\n",
    "from IPython.display import display"
   ]
  },
  {
   "cell_type": "markdown",
   "id": "f3bbde4b-6628-4b6f-93ed-826d848dcbb7",
   "metadata": {},
   "source": [
    "We first load the relevant data set:"
   ]
  },
  {
   "cell_type": "code",
   "execution_count": null,
   "id": "0e5840d6-9e30-48bc-87c8-3bcdd46b1bf4",
   "metadata": {
    "ExecuteTime": {
     "end_time": "2024-10-08T11:54:11.875011Z",
     "start_time": "2024-10-08T11:54:11.735661Z"
    },
    "tags": []
   },
   "outputs": [],
   "source": [
    "data_store = DataStore.from_dir(\n",
    "    f\"../../../CTA-SDC-school-20241010T210126Z-001/CTA-SDC-school\"\n",
    ")"
   ]
  },
  {
   "cell_type": "markdown",
   "id": "7c870321-c069-4dcc-8211-bcafbe22e224",
   "metadata": {},
   "source": [
    "We set the properties of the source of interest. *Bonus*: we can use Virtual Observatory services to query some other source parameters, like its redshift."
   ]
  },
  {
   "cell_type": "code",
   "execution_count": null,
   "id": "232ed13c-a9e1-4653-9e56-ad2fe6f61e8f",
   "metadata": {
    "tags": []
   },
   "outputs": [],
   "source": [
    "src = dict()\n",
    "src['Name'] = 'Mrk 421'\n",
    "src['Position'] = SkyCoord.from_name(src['Name'])\n",
    "\n",
    "try:\n",
    "    simbad = Simbad()\n",
    "    simbad.add_votable_fields(\"z_value\")\n",
    "    query = simbad.query_object(src['Name'])\n",
    "    src['Redshift'] = query[\"Z_VALUE\"].data[0]\n",
    "except NameError:\n",
    "    print(\"Cannot use Simbad, will set the source redshift manually\")\n",
    "    src['Redshift'] = 0.030"
   ]
  },
  {
   "cell_type": "markdown",
   "id": "4f633c98-19de-44c9-9747-4fd24fb4b370",
   "metadata": {},
   "source": [
    "We select a sub-sample of data acquired on our source:"
   ]
  },
  {
   "cell_type": "code",
   "execution_count": null,
   "id": "38dabea5-5d5c-4a7c-8feb-256812ff788a",
   "metadata": {
    "tags": []
   },
   "outputs": [],
   "source": [
    "selection = dict(\n",
    "    type=\"sky_circle\",\n",
    "    frame=\"icrs\",\n",
    "    lon=src['Position'].ra,\n",
    "    lat=src['Position'].dec,\n",
    "    radius=\"3 deg\",\n",
    ")\n",
    "selected_obs_table = data_store.obs_table.select_observations(selection)\n",
    "\n",
    "obs_ids = selected_obs_table[\"OBS_ID\"]\n",
    "observations = data_store.get_observations(obs_ids)"
   ]
  },
  {
   "cell_type": "markdown",
   "id": "cf1d8c29-a419-4b31-b1de-211a9ce9104c",
   "metadata": {},
   "source": [
    "Let's create a time intervals, for later use, and filter the observations on it:"
   ]
  },
  {
   "cell_type": "code",
   "execution_count": null,
   "id": "aac02cd3-a393-47b5-9ed5-7602d62d6e66",
   "metadata": {
    "tags": []
   },
   "outputs": [],
   "source": [
    "t0 = XXX\n",
    "duration = 20 * u.min\n",
    "n_time_bins = XXX\n",
    "times = t0 + np.arange(n_time_bins) * duration\n",
    "time_intervals = XXX\n",
    "\n",
    "short_observations = observations.select_time(time_intervals)"
   ]
  },
  {
   "cell_type": "markdown",
   "id": "fbcef1d9-7b83-419d-823f-ff043f089016",
   "metadata": {},
   "source": [
    "# Data reduction\n",
    "\n",
    "Let's perform a 1D analysis of the data."
   ]
  },
  {
   "cell_type": "code",
   "execution_count": null,
   "id": "512a4807-12c3-4bf5-982e-25d2272ff38d",
   "metadata": {},
   "outputs": [],
   "source": [
    "on_region_radius = Angle(\"0.1 deg\")\n",
    "\n",
    "on_region = CircleSkyRegion(center=src['Position'], radius=on_region_radius)\n",
    "exclusion_region = CircleSkyRegion(center=src['Position'],radius=0.5 * u.deg)\n",
    "geom = WcsGeom.create(\n",
    "    npix=(120, 120), binsz=0.05, skydir=src['Position'], proj=\"TAN\", frame=\"icrs\"\n",
    ")\n",
    "exclusion_mask = ~geom.region_mask([exclusion_region])"
   ]
  },
  {
   "cell_type": "code",
   "execution_count": null,
   "id": "ca752e9c-b2b0-443b-8ad6-c7702b9ec876",
   "metadata": {},
   "outputs": [],
   "source": [
    "energy_axis = XXX\n",
    "energy_axis_true = XXX\n",
    "\n",
    "geom = RegionGeom.create(region=on_region, axes=[energy_axis])\n",
    "\n",
    "dataset_empty = XXX\n",
    "dataset_maker = XXX\n",
    "\n",
    "bkg_maker = XXX\n",
    "safe_mask_maker = XXX"
   ]
  },
  {
   "cell_type": "code",
   "execution_count": null,
   "id": "66c7958a-fbd0-4298-9f9c-c96eaa69a7fc",
   "metadata": {},
   "outputs": [],
   "source": [
    "%%time\n",
    "\n",
    "# Parallel version\n",
    "makers = [dataset_maker, bkg_maker, safe_mask_maker]  # the order matters\n",
    "datasets_maker = DatasetsMaker(makers, stack_datasets=False, n_jobs=6)\n",
    "datasets = datasets_maker.run(dataset_empty, observations)"
   ]
  },
  {
   "cell_type": "code",
   "execution_count": null,
   "id": "27c7db06-30d6-474b-aa59-6a626e824c47",
   "metadata": {
    "tags": []
   },
   "outputs": [],
   "source": [
    "dataset_stack = datasets.stack_reduce()"
   ]
  },
  {
   "cell_type": "markdown",
   "id": "47973ee1-734c-40ba-9bd1-032a088ba8af",
   "metadata": {},
   "source": [
    "Let's find some energy at which to slice our data, to build two well-balanced sets into two energy bands:"
   ]
  },
  {
   "cell_type": "code",
   "execution_count": null,
   "id": "faa8f6e9-23f9-4027-9083-d5b685073a61",
   "metadata": {},
   "outputs": [],
   "source": [
    "excess = dataset_stack.excess.data.T[0][0]\n",
    "mask = excess > 0\n",
    "excess = excess[mask]\n",
    "energy_bins = dataset_stack.counts.geom.axes['energy'].center[mask]\n",
    "split_value = 2./3. * np.sum(excess)\n",
    "split_mask = np.cumsum(excess) > split_value\n",
    "e_split = energy_bins[split_mask][0]\n",
    "\n",
    "print(f'Split energy: {e_split:.3f}')"
   ]
  },
  {
   "cell_type": "code",
   "execution_count": null,
   "id": "b1749b23-3920-47ff-bae1-b0bd7981f670",
   "metadata": {
    "tags": []
   },
   "outputs": [],
   "source": [
    "e_min = dataset_stack.energy_range_safe[0].data[0][0] * dataset_stack.energy_range_safe[0].unit\n",
    "e_max = dataset_stack.energy_range_safe[-1].data[0][0] * dataset_stack.energy_range_safe[0].unit\n",
    "print(f'Energy threshold: {e_min:.3f}')\n",
    "print(f'Maximal energy: {e_max:.3f}')"
   ]
  },
  {
   "cell_type": "markdown",
   "id": "ce98aedc-2735-4779-9581-7601ab1be5af",
   "metadata": {},
   "source": [
    "# Fit overall spectrum"
   ]
  },
  {
   "cell_type": "code",
   "execution_count": null,
   "id": "f00fab8a-b32f-4811-8eaa-ac28bb878218",
   "metadata": {},
   "outputs": [],
   "source": [
    "spectral_model = XXX"
   ]
  },
  {
   "cell_type": "code",
   "execution_count": null,
   "id": "1ef9b550-bc97-4424-82d9-a55561e45edd",
   "metadata": {},
   "outputs": [],
   "source": [
    "source = SkyModel(spectral_model=spectral_model,\n",
    "                 name=src[\"Name\"])\n",
    "\n",
    "for ds in datasets:\n",
    "    ds.models = source"
   ]
  },
  {
   "cell_type": "code",
   "execution_count": null,
   "id": "0f28f83c-bc1f-49ca-b064-10e0bca9348b",
   "metadata": {},
   "outputs": [],
   "source": [
    "%%time\n",
    "\n",
    "fit_joint = Fit()\n",
    "result_joint = fit_joint.run(datasets=datasets)\n",
    "\n",
    "# we make a copy here of the optimised model for later use\n",
    "model_best_joint = source.copy(name=src[\"Name\"])"
   ]
  },
  {
   "cell_type": "code",
   "execution_count": null,
   "id": "b1ab68a9-c910-454b-b9bf-c2eb729f0357",
   "metadata": {},
   "outputs": [],
   "source": [
    "print(result_joint)\n",
    "display(result_joint.models.to_parameters_table())"
   ]
  },
  {
   "cell_type": "code",
   "execution_count": null,
   "id": "25ab9d51-9689-4bd2-b2b4-41ced797135f",
   "metadata": {
    "tags": []
   },
   "outputs": [],
   "source": [
    "%%time\n",
    "\n",
    "# Compute flux points\n",
    "\n",
    "energy_edges = XXX\n",
    "\n",
    "fpe = FluxPointsEstimator(XXX)\n",
    "flux_points = fpe.run(datasets)"
   ]
  },
  {
   "cell_type": "markdown",
   "id": "f76cac57-fe3e-447c-9179-2883bbdcbd45",
   "metadata": {},
   "source": [
    "Let's plot the SED so far:"
   ]
  },
  {
   "cell_type": "code",
   "execution_count": null,
   "id": "897b49ff-3402-4c53-aa97-c8f8b7c04363",
   "metadata": {
    "tags": []
   },
   "outputs": [],
   "source": [
    "fig, ax = plt.subplots(figsize=(8, 6))\n",
    "\n",
    "plot_kwargs = {\n",
    "    \"energy_bounds\": [e_min, e_max],\n",
    "    \"sed_type\": \"e2dnde\",\n",
    "    \"yunits\": u.Unit(\"erg cm-2 s-1\"),\n",
    "    \"ax\": ax,\n",
    "}\n",
    "\n",
    "XXXX"
   ]
  },
  {
   "cell_type": "markdown",
   "id": "c6351acc-3432-4356-8b8e-ff4cf52cf817",
   "metadata": {},
   "source": [
    "# Light curve"
   ]
  },
  {
   "cell_type": "markdown",
   "id": "40c2b7e3-2e46-4d97-9e6c-a3429910407e",
   "metadata": {},
   "source": [
    "Let's compute the light curve in two energy ranges"
   ]
  },
  {
   "cell_type": "code",
   "execution_count": null,
   "id": "2f66c174-7c48-4997-b8ad-afca0da08aac",
   "metadata": {
    "tags": []
   },
   "outputs": [],
   "source": [
    "energy_lo = [e_min.value, e_split.value] * e_min.unit\n",
    "energy_hi = [e_split.value, e_max.value] * e_max.unit\n",
    "energy_all = [e_min.value, e_max.value] * e_min.unit\n",
    "\n",
    "e_ranges = [energy_lo, energy_hi, energy_all]"
   ]
  },
  {
   "cell_type": "code",
   "execution_count": null,
   "id": "aa8768c8-ab37-44a9-85ad-a4375a606ae5",
   "metadata": {},
   "outputs": [],
   "source": [
    "lc_maker = LightCurveEstimator(XXX)\n",
    "lc = lc_maker.run(datasets)"
   ]
  },
  {
   "cell_type": "markdown",
   "id": "f0dd3975-9c46-4ef8-b7e3-0542a97451e2",
   "metadata": {},
   "source": [
    "Plot the light curves:"
   ]
  },
  {
   "cell_type": "code",
   "execution_count": null,
   "id": "ab5dd193-1f06-4f2e-b95f-8a7ffd0406b0",
   "metadata": {},
   "outputs": [],
   "source": [
    "XXX"
   ]
  },
  {
   "cell_type": "markdown",
   "id": "253ebe2a-a497-490e-8fc3-36357b091a90",
   "metadata": {},
   "source": [
    "We can also rebin the light curve to larger, fixed time bins, or requesting a minimum TS.\n",
    "As an example, let's create another light curve for the whole energy range, and play with it."
   ]
  },
  {
   "cell_type": "raw",
   "id": "3dbdaa1a-6758-45e8-b6cf-5880c142092c",
   "metadata": {
    "tags": []
   },
   "source": [
    "lc_maker_new = LightCurveEstimator(XXX)\n",
    "lc_all = lc_maker_new.run(datasets)"
   ]
  },
  {
   "cell_type": "code",
   "execution_count": null,
   "id": "e759d4c8-db25-486d-a611-25ee147802e2",
   "metadata": {
    "tags": []
   },
   "outputs": [],
   "source": [
    "axis_new = get_rebinned_axis(XXX)\n",
    "print(axis_new)\n",
    "\n",
    "# Resample the original light curve\n",
    "XXX\n",
    "\n",
    "# Plot the original and resampled light curves\n",
    "plt.figure(figsize=(8, 6))\n",
    "XXX"
   ]
  },
  {
   "cell_type": "markdown",
   "id": "d3a07513-8e41-4162-9261-be213e8c6d28",
   "metadata": {},
   "source": [
    "# Fractional and point-to-point variability"
   ]
  },
  {
   "cell_type": "code",
   "execution_count": null,
   "id": "97b3700d-564b-4a59-b189-7bf2c8257301",
   "metadata": {
    "tags": []
   },
   "outputs": [],
   "source": [
    "# Compute the global fractional variability, for each energy intervals\n",
    "XXX"
   ]
  },
  {
   "cell_type": "code",
   "execution_count": null,
   "id": "e5808ad4-8010-49a4-b1ab-3f73f200ed04",
   "metadata": {
    "tags": []
   },
   "outputs": [],
   "source": [
    "# Compute the point-to-point fractional variability, for each energy intervals\n",
    "XXX"
   ]
  },
  {
   "cell_type": "code",
   "execution_count": null,
   "id": "a77097b2-9acb-494f-b78b-86cd5ce66902",
   "metadata": {
    "tags": []
   },
   "outputs": [],
   "source": [
    "# Compute the characteristic doubling time of the light curves, for each energy intervals\n",
    "XXX"
   ]
  },
  {
   "cell_type": "markdown",
   "id": "b790cd2b-8de6-4806-a895-1f3c8ca61807",
   "metadata": {},
   "source": [
    "# Hardness ratio diagrams\n",
    "\n",
    "Let's compute the flux ratio of our two light curves, plot them against time, and against the overall flux (i.e. hardness ratio diagram)."
   ]
  },
  {
   "cell_type": "markdown",
   "id": "52581c1b-2586-4f1d-afee-047956b91891",
   "metadata": {},
   "source": [
    "Access the low-energy and high-energy light curves.\n",
    "\n",
    "**Tip**: Remember that `RegionNDMap` holds quantities of `numpy.ndarray`s."
   ]
  },
  {
   "cell_type": "code",
   "execution_count": null,
   "id": "7707ae52-e08c-404b-a62e-04293022b632",
   "metadata": {
    "tags": []
   },
   "outputs": [],
   "source": [
    "lc_lo = XXX\n",
    "lc_hi = XXX\n",
    "\n",
    "lc_tot = XXX"
   ]
  },
  {
   "cell_type": "code",
   "execution_count": null,
   "id": "5a7d606d-1872-4a16-9b31-5954e2dc7552",
   "metadata": {
    "tags": []
   },
   "outputs": [],
   "source": [
    "flux_ratio = XXX"
   ]
  },
  {
   "cell_type": "code",
   "execution_count": null,
   "id": "2ebe9e88-d120-4905-bce7-a07bce52738b",
   "metadata": {
    "tags": []
   },
   "outputs": [],
   "source": [
    "# Plot the flux ratio versus time\n",
    "\n",
    "XXX"
   ]
  },
  {
   "cell_type": "markdown",
   "id": "0a36f43c-3301-4a04-8c88-1577dafd0ba9",
   "metadata": {},
   "source": [
    "Now, let's plot the hardness ratio diagram (integral flux in the whole energy range, versus the flux ratio)"
   ]
  },
  {
   "cell_type": "code",
   "execution_count": null,
   "id": "4afb01b9-dde2-4061-a749-34ac1c0a1df1",
   "metadata": {
    "tags": []
   },
   "outputs": [],
   "source": [
    "XXX"
   ]
  },
  {
   "cell_type": "code",
   "execution_count": null,
   "id": "5febab1a-a48c-499e-8734-4d9a471957b5",
   "metadata": {},
   "outputs": [],
   "source": []
  }
 ],
 "metadata": {
  "kernelspec": {
   "display_name": "Python (cads-2024)",
   "language": "python",
   "name": "cads-2024"
  },
  "language_info": {
   "codemirror_mode": {
    "name": "ipython",
    "version": 3
   },
   "file_extension": ".py",
   "mimetype": "text/x-python",
   "name": "python",
   "nbconvert_exporter": "python",
   "pygments_lexer": "ipython3",
   "version": "3.12.7"
  }
 },
 "nbformat": 4,
 "nbformat_minor": 5
}
